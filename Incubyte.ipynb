{
 "cells": [
  {
   "cell_type": "code",
   "execution_count": 631,
   "id": "beb46fd4",
   "metadata": {},
   "outputs": [],
   "source": [
    "import pandas as pd\n",
    "import numpy as np\n",
    "import seaborn as sns\n",
    "import os\n",
    "from matplotlib import pyplot as plt\n",
    "from sklearn import preprocessing\n",
    "import unittest\n",
    "import datetime\n",
    "import warnings\n",
    "warnings.filterwarnings('ignore')"
   ]
  },
  {
   "cell_type": "code",
   "execution_count": 632,
   "id": "d4efe30d",
   "metadata": {},
   "outputs": [
    {
     "data": {
      "text/plain": [
       "['.ipynb_checkpoints',\n",
       " 'AUS.xlsx',\n",
       " 'Data Engineer Technical Assessment.docx',\n",
       " 'Incubyte.ipynb',\n",
       " 'Incubyte_PDF.pdf',\n",
       " 'IND.csv',\n",
       " 'ReadME.odt',\n",
       " 'ReadME.pdf',\n",
       " 'Submission',\n",
       " 'Submission.zip',\n",
       " 'USA.csv']"
      ]
     },
     "execution_count": 632,
     "metadata": {},
     "output_type": "execute_result"
    }
   ],
   "source": [
    "os.listdir()"
   ]
  },
  {
   "cell_type": "code",
   "execution_count": 633,
   "id": "59b38db9",
   "metadata": {},
   "outputs": [],
   "source": [
    "#First lets read all the data files and check theri size"
   ]
  },
  {
   "cell_type": "code",
   "execution_count": 634,
   "id": "c5691dd8",
   "metadata": {},
   "outputs": [],
   "source": [
    "#USA.csv\n",
    "dt1  = pd.read_csv('USA.csv')"
   ]
  },
  {
   "cell_type": "code",
   "execution_count": 635,
   "id": "8c9eb62f",
   "metadata": {},
   "outputs": [
    {
     "data": {
      "text/plain": [
       "(3, 4)"
      ]
     },
     "execution_count": 635,
     "metadata": {},
     "output_type": "execute_result"
    }
   ],
   "source": [
    "dt1.shape"
   ]
  },
  {
   "cell_type": "code",
   "execution_count": 636,
   "id": "d879fce8",
   "metadata": {},
   "outputs": [
    {
     "data": {
      "text/html": [
       "<div>\n",
       "<style scoped>\n",
       "    .dataframe tbody tr th:only-of-type {\n",
       "        vertical-align: middle;\n",
       "    }\n",
       "\n",
       "    .dataframe tbody tr th {\n",
       "        vertical-align: top;\n",
       "    }\n",
       "\n",
       "    .dataframe thead th {\n",
       "        text-align: right;\n",
       "    }\n",
       "</style>\n",
       "<table border=\"1\" class=\"dataframe\">\n",
       "  <thead>\n",
       "    <tr style=\"text-align: right;\">\n",
       "      <th></th>\n",
       "      <th>ID</th>\n",
       "      <th>Name</th>\n",
       "      <th>VaccinationType</th>\n",
       "      <th>VaccinationDate</th>\n",
       "    </tr>\n",
       "  </thead>\n",
       "  <tbody>\n",
       "    <tr>\n",
       "      <th>0</th>\n",
       "      <td>1</td>\n",
       "      <td>Sam</td>\n",
       "      <td>EFG</td>\n",
       "      <td>6152022</td>\n",
       "    </tr>\n",
       "    <tr>\n",
       "      <th>1</th>\n",
       "      <td>2</td>\n",
       "      <td>John</td>\n",
       "      <td>XYZ</td>\n",
       "      <td>1052022</td>\n",
       "    </tr>\n",
       "    <tr>\n",
       "      <th>2</th>\n",
       "      <td>3</td>\n",
       "      <td>Mike</td>\n",
       "      <td>ABC</td>\n",
       "      <td>12282021</td>\n",
       "    </tr>\n",
       "  </tbody>\n",
       "</table>\n",
       "</div>"
      ],
      "text/plain": [
       "   ID  Name VaccinationType  VaccinationDate\n",
       "0   1   Sam             EFG          6152022\n",
       "1   2  John             XYZ          1052022\n",
       "2   3  Mike             ABC         12282021"
      ]
     },
     "execution_count": 636,
     "metadata": {},
     "output_type": "execute_result"
    }
   ],
   "source": [
    "dt1.head()"
   ]
  },
  {
   "cell_type": "code",
   "execution_count": 637,
   "id": "0550d60c",
   "metadata": {},
   "outputs": [],
   "source": [
    "#Date format seems like MM/DD/YY . Will build a helper function later on to convert to datetitme from int64"
   ]
  },
  {
   "cell_type": "code",
   "execution_count": 638,
   "id": "6d4b5647",
   "metadata": {},
   "outputs": [
    {
     "data": {
      "text/html": [
       "<div>\n",
       "<style scoped>\n",
       "    .dataframe tbody tr th:only-of-type {\n",
       "        vertical-align: middle;\n",
       "    }\n",
       "\n",
       "    .dataframe tbody tr th {\n",
       "        vertical-align: top;\n",
       "    }\n",
       "\n",
       "    .dataframe thead th {\n",
       "        text-align: right;\n",
       "    }\n",
       "</style>\n",
       "<table border=\"1\" class=\"dataframe\">\n",
       "  <thead>\n",
       "    <tr style=\"text-align: right;\">\n",
       "      <th></th>\n",
       "      <th>ID</th>\n",
       "      <th>Name</th>\n",
       "      <th>VaccinationType</th>\n",
       "      <th>VaccinationDate</th>\n",
       "    </tr>\n",
       "  </thead>\n",
       "  <tbody>\n",
       "    <tr>\n",
       "      <th>count</th>\n",
       "      <td>3.0</td>\n",
       "      <td>3</td>\n",
       "      <td>3</td>\n",
       "      <td>3.000000e+00</td>\n",
       "    </tr>\n",
       "    <tr>\n",
       "      <th>unique</th>\n",
       "      <td>NaN</td>\n",
       "      <td>3</td>\n",
       "      <td>3</td>\n",
       "      <td>NaN</td>\n",
       "    </tr>\n",
       "    <tr>\n",
       "      <th>top</th>\n",
       "      <td>NaN</td>\n",
       "      <td>Sam</td>\n",
       "      <td>EFG</td>\n",
       "      <td>NaN</td>\n",
       "    </tr>\n",
       "    <tr>\n",
       "      <th>freq</th>\n",
       "      <td>NaN</td>\n",
       "      <td>1</td>\n",
       "      <td>1</td>\n",
       "      <td>NaN</td>\n",
       "    </tr>\n",
       "    <tr>\n",
       "      <th>mean</th>\n",
       "      <td>2.0</td>\n",
       "      <td>NaN</td>\n",
       "      <td>NaN</td>\n",
       "      <td>6.495355e+06</td>\n",
       "    </tr>\n",
       "    <tr>\n",
       "      <th>std</th>\n",
       "      <td>1.0</td>\n",
       "      <td>NaN</td>\n",
       "      <td>NaN</td>\n",
       "      <td>5.622866e+06</td>\n",
       "    </tr>\n",
       "    <tr>\n",
       "      <th>min</th>\n",
       "      <td>1.0</td>\n",
       "      <td>NaN</td>\n",
       "      <td>NaN</td>\n",
       "      <td>1.052022e+06</td>\n",
       "    </tr>\n",
       "    <tr>\n",
       "      <th>25%</th>\n",
       "      <td>1.5</td>\n",
       "      <td>NaN</td>\n",
       "      <td>NaN</td>\n",
       "      <td>3.602022e+06</td>\n",
       "    </tr>\n",
       "    <tr>\n",
       "      <th>50%</th>\n",
       "      <td>2.0</td>\n",
       "      <td>NaN</td>\n",
       "      <td>NaN</td>\n",
       "      <td>6.152022e+06</td>\n",
       "    </tr>\n",
       "    <tr>\n",
       "      <th>75%</th>\n",
       "      <td>2.5</td>\n",
       "      <td>NaN</td>\n",
       "      <td>NaN</td>\n",
       "      <td>9.217022e+06</td>\n",
       "    </tr>\n",
       "    <tr>\n",
       "      <th>max</th>\n",
       "      <td>3.0</td>\n",
       "      <td>NaN</td>\n",
       "      <td>NaN</td>\n",
       "      <td>1.228202e+07</td>\n",
       "    </tr>\n",
       "  </tbody>\n",
       "</table>\n",
       "</div>"
      ],
      "text/plain": [
       "         ID Name VaccinationType  VaccinationDate\n",
       "count   3.0    3               3     3.000000e+00\n",
       "unique  NaN    3               3              NaN\n",
       "top     NaN  Sam             EFG              NaN\n",
       "freq    NaN    1               1              NaN\n",
       "mean    2.0  NaN             NaN     6.495355e+06\n",
       "std     1.0  NaN             NaN     5.622866e+06\n",
       "min     1.0  NaN             NaN     1.052022e+06\n",
       "25%     1.5  NaN             NaN     3.602022e+06\n",
       "50%     2.0  NaN             NaN     6.152022e+06\n",
       "75%     2.5  NaN             NaN     9.217022e+06\n",
       "max     3.0  NaN             NaN     1.228202e+07"
      ]
     },
     "execution_count": 638,
     "metadata": {},
     "output_type": "execute_result"
    }
   ],
   "source": [
    "#statistical summary\n",
    "dt1.describe(include=\"all\")"
   ]
  },
  {
   "cell_type": "code",
   "execution_count": 639,
   "id": "b30bdec6",
   "metadata": {},
   "outputs": [
    {
     "name": "stdout",
     "output_type": "stream",
     "text": [
      "<class 'pandas.core.frame.DataFrame'>\n",
      "RangeIndex: 3 entries, 0 to 2\n",
      "Data columns (total 4 columns):\n",
      " #   Column           Non-Null Count  Dtype \n",
      "---  ------           --------------  ----- \n",
      " 0   ID               3 non-null      int64 \n",
      " 1   Name             3 non-null      object\n",
      " 2   VaccinationType  3 non-null      object\n",
      " 3   VaccinationDate  3 non-null      int64 \n",
      "dtypes: int64(2), object(2)\n",
      "memory usage: 224.0+ bytes\n"
     ]
    }
   ],
   "source": [
    "dt1.info()"
   ]
  },
  {
   "cell_type": "code",
   "execution_count": 640,
   "id": "0838f36f",
   "metadata": {},
   "outputs": [
    {
     "data": {
      "text/plain": [
       "ID                 3\n",
       "Name               3\n",
       "VaccinationType    3\n",
       "VaccinationDate    3\n",
       "dtype: int64"
      ]
     },
     "execution_count": 640,
     "metadata": {},
     "output_type": "execute_result"
    }
   ],
   "source": [
    "dt1.nunique()"
   ]
  },
  {
   "cell_type": "code",
   "execution_count": 641,
   "id": "7a31a27b",
   "metadata": {},
   "outputs": [
    {
     "data": {
      "text/plain": [
       "ID                 0\n",
       "Name               0\n",
       "VaccinationType    0\n",
       "VaccinationDate    0\n",
       "dtype: int64"
      ]
     },
     "execution_count": 641,
     "metadata": {},
     "output_type": "execute_result"
    }
   ],
   "source": [
    "#Null values per column\n",
    "dt1.isna().sum()"
   ]
  },
  {
   "cell_type": "code",
   "execution_count": 642,
   "id": "4d7cbe13",
   "metadata": {},
   "outputs": [],
   "source": [
    "#Date format is in mm dd yyyy format\n"
   ]
  },
  {
   "cell_type": "code",
   "execution_count": 643,
   "id": "f4a04616",
   "metadata": {},
   "outputs": [],
   "source": [
    "#Now we can write unit tests for each column "
   ]
  },
  {
   "cell_type": "code",
   "execution_count": 644,
   "id": "f430c4e9",
   "metadata": {},
   "outputs": [],
   "source": [
    "#checks if all values in a Pandas series representing the \"VaccinationDate\" column are valid dates\n",
    "def check_vaccination_dates(series):\n",
    "    for date_str in series:\n",
    "        try:\n",
    "            datetime.datetime.strptime(str(date_str), '%m%d%Y')\n",
    "        except ValueError:\n",
    "            return False\n",
    "    return True\n",
    "\n",
    "# The check_name_column, and check_vaccination_type_column functions check if all values in the \n",
    "# \"Name\", and \"VaccinationType\" columns, respectively, are of the expected data type (integer for \"D\" and string for\n",
    "# \"Name\" and \"VaccinationType\").\n",
    "\n",
    "def check_name_column(series):\n",
    "    return all(isinstance(x, str) for x in series)\n",
    "\n",
    "def check_vaccination_type_column(series):\n",
    "    return all(isinstance(x, str) for x in series)\n",
    "\n",
    "# The check_dataframe function takes a Pandas dataframe as input and calls the other functions to check the\n",
    "# validity of each column. It returns True if all columns are valid, and False otherwise.\n",
    "def check_dataframe(df):\n",
    "    return (\n",
    "            check_name_column(df['Name']) and\n",
    "            check_vaccination_type_column(df['VaccinationType']) and\n",
    "            check_vaccination_dates(df['VaccinationDate']))"
   ]
  },
  {
   "cell_type": "code",
   "execution_count": 645,
   "id": "a0064149",
   "metadata": {},
   "outputs": [
    {
     "name": "stdout",
     "output_type": "stream",
     "text": [
      "Is dataframe data valid : True\n"
     ]
    }
   ],
   "source": [
    "print(\"Is dataframe data valid :\", check_dataframe(dt1))"
   ]
  },
  {
   "cell_type": "code",
   "execution_count": 646,
   "id": "b22bc84d",
   "metadata": {},
   "outputs": [],
   "source": [
    "tc = unittest.TestCase()\n",
    "tc.assertTrue( check_dataframe(dt1),\"Data is not valid\")"
   ]
  },
  {
   "cell_type": "code",
   "execution_count": 647,
   "id": "fae4c754",
   "metadata": {},
   "outputs": [],
   "source": [
    "dt1['VaccinationDate'] =  dt1['VaccinationDate'].map(lambda x : datetime.datetime.strptime(str(x), '%m%d%Y'))"
   ]
  },
  {
   "cell_type": "code",
   "execution_count": 648,
   "id": "db3dd2bf",
   "metadata": {},
   "outputs": [
    {
     "data": {
      "text/html": [
       "<div>\n",
       "<style scoped>\n",
       "    .dataframe tbody tr th:only-of-type {\n",
       "        vertical-align: middle;\n",
       "    }\n",
       "\n",
       "    .dataframe tbody tr th {\n",
       "        vertical-align: top;\n",
       "    }\n",
       "\n",
       "    .dataframe thead th {\n",
       "        text-align: right;\n",
       "    }\n",
       "</style>\n",
       "<table border=\"1\" class=\"dataframe\">\n",
       "  <thead>\n",
       "    <tr style=\"text-align: right;\">\n",
       "      <th></th>\n",
       "      <th>ID</th>\n",
       "      <th>Name</th>\n",
       "      <th>VaccinationType</th>\n",
       "      <th>VaccinationDate</th>\n",
       "    </tr>\n",
       "  </thead>\n",
       "  <tbody>\n",
       "    <tr>\n",
       "      <th>0</th>\n",
       "      <td>1</td>\n",
       "      <td>Sam</td>\n",
       "      <td>EFG</td>\n",
       "      <td>2022-06-15</td>\n",
       "    </tr>\n",
       "    <tr>\n",
       "      <th>1</th>\n",
       "      <td>2</td>\n",
       "      <td>John</td>\n",
       "      <td>XYZ</td>\n",
       "      <td>2022-10-05</td>\n",
       "    </tr>\n",
       "    <tr>\n",
       "      <th>2</th>\n",
       "      <td>3</td>\n",
       "      <td>Mike</td>\n",
       "      <td>ABC</td>\n",
       "      <td>2021-12-28</td>\n",
       "    </tr>\n",
       "  </tbody>\n",
       "</table>\n",
       "</div>"
      ],
      "text/plain": [
       "   ID  Name VaccinationType VaccinationDate\n",
       "0   1   Sam             EFG      2022-06-15\n",
       "1   2  John             XYZ      2022-10-05\n",
       "2   3  Mike             ABC      2021-12-28"
      ]
     },
     "execution_count": 648,
     "metadata": {},
     "output_type": "execute_result"
    }
   ],
   "source": [
    "dt1.head()"
   ]
  },
  {
   "cell_type": "code",
   "execution_count": 649,
   "id": "ff707ae8",
   "metadata": {},
   "outputs": [
    {
     "data": {
      "text/plain": [
       "pandas._libs.tslibs.timestamps.Timestamp"
      ]
     },
     "execution_count": 649,
     "metadata": {},
     "output_type": "execute_result"
    }
   ],
   "source": [
    "type(dt1['VaccinationDate'].iloc[0])"
   ]
  },
  {
   "cell_type": "code",
   "execution_count": null,
   "id": "474c535e",
   "metadata": {},
   "outputs": [],
   "source": []
  },
  {
   "cell_type": "code",
   "execution_count": 650,
   "id": "c7a34770",
   "metadata": {},
   "outputs": [],
   "source": [
    "#IND.csv\n",
    "dt2  = pd.read_csv('IND.csv')"
   ]
  },
  {
   "cell_type": "code",
   "execution_count": 651,
   "id": "8b34bfe3",
   "metadata": {},
   "outputs": [
    {
     "data": {
      "text/plain": [
       "(3, 6)"
      ]
     },
     "execution_count": 651,
     "metadata": {},
     "output_type": "execute_result"
    }
   ],
   "source": [
    "dt2.shape"
   ]
  },
  {
   "cell_type": "code",
   "execution_count": 652,
   "id": "46e26761",
   "metadata": {},
   "outputs": [
    {
     "data": {
      "text/html": [
       "<div>\n",
       "<style scoped>\n",
       "    .dataframe tbody tr th:only-of-type {\n",
       "        vertical-align: middle;\n",
       "    }\n",
       "\n",
       "    .dataframe tbody tr th {\n",
       "        vertical-align: top;\n",
       "    }\n",
       "\n",
       "    .dataframe thead th {\n",
       "        text-align: right;\n",
       "    }\n",
       "</style>\n",
       "<table border=\"1\" class=\"dataframe\">\n",
       "  <thead>\n",
       "    <tr style=\"text-align: right;\">\n",
       "      <th></th>\n",
       "      <th>ID</th>\n",
       "      <th>Name</th>\n",
       "      <th>DOB</th>\n",
       "      <th>VaccinationType</th>\n",
       "      <th>VaccinationDate</th>\n",
       "      <th>Free or Paid</th>\n",
       "    </tr>\n",
       "  </thead>\n",
       "  <tbody>\n",
       "    <tr>\n",
       "      <th>0</th>\n",
       "      <td>1</td>\n",
       "      <td>Vikas</td>\n",
       "      <td>1998-12-01</td>\n",
       "      <td>XYZ</td>\n",
       "      <td>2022-01-01</td>\n",
       "      <td>F</td>\n",
       "    </tr>\n",
       "    <tr>\n",
       "      <th>1</th>\n",
       "      <td>2</td>\n",
       "      <td>Rahul</td>\n",
       "      <td>1982-08-13</td>\n",
       "      <td>ABC</td>\n",
       "      <td>2022-03-05</td>\n",
       "      <td>P</td>\n",
       "    </tr>\n",
       "    <tr>\n",
       "      <th>2</th>\n",
       "      <td>3</td>\n",
       "      <td>Sameer</td>\n",
       "      <td>1952-08-13</td>\n",
       "      <td>ABC</td>\n",
       "      <td>2022-02-20</td>\n",
       "      <td>F</td>\n",
       "    </tr>\n",
       "  </tbody>\n",
       "</table>\n",
       "</div>"
      ],
      "text/plain": [
       "   ID    Name         DOB VaccinationType VaccinationDate Free or Paid\n",
       "0   1   Vikas  1998-12-01             XYZ      2022-01-01            F\n",
       "1   2   Rahul  1982-08-13             ABC      2022-03-05            P\n",
       "2   3  Sameer  1952-08-13             ABC      2022-02-20            F"
      ]
     },
     "execution_count": 652,
     "metadata": {},
     "output_type": "execute_result"
    }
   ],
   "source": [
    "dt2.head()"
   ]
  },
  {
   "cell_type": "code",
   "execution_count": 653,
   "id": "7bffe68c",
   "metadata": {},
   "outputs": [
    {
     "data": {
      "text/html": [
       "<div>\n",
       "<style scoped>\n",
       "    .dataframe tbody tr th:only-of-type {\n",
       "        vertical-align: middle;\n",
       "    }\n",
       "\n",
       "    .dataframe tbody tr th {\n",
       "        vertical-align: top;\n",
       "    }\n",
       "\n",
       "    .dataframe thead th {\n",
       "        text-align: right;\n",
       "    }\n",
       "</style>\n",
       "<table border=\"1\" class=\"dataframe\">\n",
       "  <thead>\n",
       "    <tr style=\"text-align: right;\">\n",
       "      <th></th>\n",
       "      <th>ID</th>\n",
       "      <th>Name</th>\n",
       "      <th>DOB</th>\n",
       "      <th>VaccinationType</th>\n",
       "      <th>VaccinationDate</th>\n",
       "      <th>Free or Paid</th>\n",
       "    </tr>\n",
       "  </thead>\n",
       "  <tbody>\n",
       "    <tr>\n",
       "      <th>count</th>\n",
       "      <td>3.0</td>\n",
       "      <td>3</td>\n",
       "      <td>3</td>\n",
       "      <td>3</td>\n",
       "      <td>3</td>\n",
       "      <td>3</td>\n",
       "    </tr>\n",
       "    <tr>\n",
       "      <th>unique</th>\n",
       "      <td>NaN</td>\n",
       "      <td>3</td>\n",
       "      <td>3</td>\n",
       "      <td>2</td>\n",
       "      <td>3</td>\n",
       "      <td>2</td>\n",
       "    </tr>\n",
       "    <tr>\n",
       "      <th>top</th>\n",
       "      <td>NaN</td>\n",
       "      <td>Vikas</td>\n",
       "      <td>1998-12-01</td>\n",
       "      <td>ABC</td>\n",
       "      <td>2022-01-01</td>\n",
       "      <td>F</td>\n",
       "    </tr>\n",
       "    <tr>\n",
       "      <th>freq</th>\n",
       "      <td>NaN</td>\n",
       "      <td>1</td>\n",
       "      <td>1</td>\n",
       "      <td>2</td>\n",
       "      <td>1</td>\n",
       "      <td>2</td>\n",
       "    </tr>\n",
       "    <tr>\n",
       "      <th>mean</th>\n",
       "      <td>2.0</td>\n",
       "      <td>NaN</td>\n",
       "      <td>NaN</td>\n",
       "      <td>NaN</td>\n",
       "      <td>NaN</td>\n",
       "      <td>NaN</td>\n",
       "    </tr>\n",
       "    <tr>\n",
       "      <th>std</th>\n",
       "      <td>1.0</td>\n",
       "      <td>NaN</td>\n",
       "      <td>NaN</td>\n",
       "      <td>NaN</td>\n",
       "      <td>NaN</td>\n",
       "      <td>NaN</td>\n",
       "    </tr>\n",
       "    <tr>\n",
       "      <th>min</th>\n",
       "      <td>1.0</td>\n",
       "      <td>NaN</td>\n",
       "      <td>NaN</td>\n",
       "      <td>NaN</td>\n",
       "      <td>NaN</td>\n",
       "      <td>NaN</td>\n",
       "    </tr>\n",
       "    <tr>\n",
       "      <th>25%</th>\n",
       "      <td>1.5</td>\n",
       "      <td>NaN</td>\n",
       "      <td>NaN</td>\n",
       "      <td>NaN</td>\n",
       "      <td>NaN</td>\n",
       "      <td>NaN</td>\n",
       "    </tr>\n",
       "    <tr>\n",
       "      <th>50%</th>\n",
       "      <td>2.0</td>\n",
       "      <td>NaN</td>\n",
       "      <td>NaN</td>\n",
       "      <td>NaN</td>\n",
       "      <td>NaN</td>\n",
       "      <td>NaN</td>\n",
       "    </tr>\n",
       "    <tr>\n",
       "      <th>75%</th>\n",
       "      <td>2.5</td>\n",
       "      <td>NaN</td>\n",
       "      <td>NaN</td>\n",
       "      <td>NaN</td>\n",
       "      <td>NaN</td>\n",
       "      <td>NaN</td>\n",
       "    </tr>\n",
       "    <tr>\n",
       "      <th>max</th>\n",
       "      <td>3.0</td>\n",
       "      <td>NaN</td>\n",
       "      <td>NaN</td>\n",
       "      <td>NaN</td>\n",
       "      <td>NaN</td>\n",
       "      <td>NaN</td>\n",
       "    </tr>\n",
       "  </tbody>\n",
       "</table>\n",
       "</div>"
      ],
      "text/plain": [
       "         ID   Name         DOB VaccinationType VaccinationDate Free or Paid\n",
       "count   3.0      3           3               3               3            3\n",
       "unique  NaN      3           3               2               3            2\n",
       "top     NaN  Vikas  1998-12-01             ABC      2022-01-01            F\n",
       "freq    NaN      1           1               2               1            2\n",
       "mean    2.0    NaN         NaN             NaN             NaN          NaN\n",
       "std     1.0    NaN         NaN             NaN             NaN          NaN\n",
       "min     1.0    NaN         NaN             NaN             NaN          NaN\n",
       "25%     1.5    NaN         NaN             NaN             NaN          NaN\n",
       "50%     2.0    NaN         NaN             NaN             NaN          NaN\n",
       "75%     2.5    NaN         NaN             NaN             NaN          NaN\n",
       "max     3.0    NaN         NaN             NaN             NaN          NaN"
      ]
     },
     "execution_count": 653,
     "metadata": {},
     "output_type": "execute_result"
    }
   ],
   "source": [
    "#statistical summary\n",
    "dt2.describe(include=\"all\")"
   ]
  },
  {
   "cell_type": "code",
   "execution_count": 654,
   "id": "a72f6c76",
   "metadata": {},
   "outputs": [
    {
     "name": "stdout",
     "output_type": "stream",
     "text": [
      "<class 'pandas.core.frame.DataFrame'>\n",
      "RangeIndex: 3 entries, 0 to 2\n",
      "Data columns (total 6 columns):\n",
      " #   Column           Non-Null Count  Dtype \n",
      "---  ------           --------------  ----- \n",
      " 0   ID               3 non-null      int64 \n",
      " 1   Name             3 non-null      object\n",
      " 2   DOB              3 non-null      object\n",
      " 3   VaccinationType  3 non-null      object\n",
      " 4   VaccinationDate  3 non-null      object\n",
      " 5   Free or Paid     3 non-null      object\n",
      "dtypes: int64(1), object(5)\n",
      "memory usage: 272.0+ bytes\n"
     ]
    }
   ],
   "source": [
    "dt2.info()"
   ]
  },
  {
   "cell_type": "code",
   "execution_count": 655,
   "id": "6ed9b7b7",
   "metadata": {},
   "outputs": [
    {
     "data": {
      "text/plain": [
       "ID                 3\n",
       "Name               3\n",
       "DOB                3\n",
       "VaccinationType    2\n",
       "VaccinationDate    3\n",
       "Free or Paid       2\n",
       "dtype: int64"
      ]
     },
     "execution_count": 655,
     "metadata": {},
     "output_type": "execute_result"
    }
   ],
   "source": [
    "dt2.nunique()"
   ]
  },
  {
   "cell_type": "code",
   "execution_count": 656,
   "id": "05289efc",
   "metadata": {},
   "outputs": [
    {
     "data": {
      "text/plain": [
       "ID                 0\n",
       "Name               0\n",
       "DOB                0\n",
       "VaccinationType    0\n",
       "VaccinationDate    0\n",
       "Free or Paid       0\n",
       "dtype: int64"
      ]
     },
     "execution_count": 656,
     "metadata": {},
     "output_type": "execute_result"
    }
   ],
   "source": [
    "#Null values per column\n",
    "dt2.isna().sum()"
   ]
  },
  {
   "cell_type": "code",
   "execution_count": 657,
   "id": "7de48e7c",
   "metadata": {},
   "outputs": [],
   "source": [
    "#Testing for data"
   ]
  },
  {
   "cell_type": "code",
   "execution_count": 658,
   "id": "db1711bf",
   "metadata": {},
   "outputs": [],
   "source": [
    "def is_valid_name_series(name_series):\n",
    "    \"\"\"Check if a Pandas Series of names is valid.\"\"\"\n",
    "    return not name_series.isnull().any() and all(name_series.astype(str).str.strip() != '')\n",
    "\n",
    "def is_valid_dob_series(dob_series):\n",
    "    \"\"\"Check if a Pandas Series of dates of birth is valid.\"\"\"\n",
    "    is_valid = True\n",
    "    for dob in dob_series:\n",
    "        try:\n",
    "            datetime.datetime.strptime(dob, '%Y-%m-%d')\n",
    "        except ValueError:\n",
    "            is_valid = False\n",
    "            break\n",
    "    return is_valid\n",
    "\n",
    "def is_valid_vaccine_type_series(vaccine_type_series):\n",
    "    \"\"\"Check if a Pandas Series of vaccine types is valid.\"\"\"\n",
    "    return not vaccine_type_series.isnull().any() and all(vaccine_type_series.astype(str).str.strip() != '')\n",
    "\n",
    "def is_valid_date_series(date_series):\n",
    "    \"\"\"Check if a Pandas Series of dates is valid.\"\"\"\n",
    "    is_valid = True\n",
    "    for date in date_series:\n",
    "        try:\n",
    "            datetime.datetime.strptime(date, '%Y-%m-%d')\n",
    "        except ValueError:\n",
    "            is_valid = False\n",
    "            break\n",
    "    return is_valid\n",
    "\n",
    "def is_valid_free_paid_series(free_paid_series):\n",
    "    \"\"\"Check if a Pandas Series of free or paid flags is valid.\"\"\"\n",
    "    return not free_paid_series.isnull().any() and all(free_paid_series.isin(['F', 'P']))\n",
    "\n",
    "def is_valid_dataframe(df):\n",
    "    \"\"\"Check if a Pandas DataFrame is valid.\"\"\"\n",
    "    return (\n",
    "        is_valid_name_series(df['Name']) and\n",
    "        is_valid_dob_series(df['DOB']) and\n",
    "        is_valid_vaccine_type_series(df['VaccinationType']) and\n",
    "        is_valid_date_series(df['VaccinationDate']) and\n",
    "        is_valid_free_paid_series(df['Free or Paid'])\n",
    "    )"
   ]
  },
  {
   "cell_type": "code",
   "execution_count": 659,
   "id": "b8178a4f",
   "metadata": {},
   "outputs": [
    {
     "name": "stdout",
     "output_type": "stream",
     "text": [
      "Is dataframe data valid : True\n"
     ]
    }
   ],
   "source": [
    "print(\"Is dataframe data valid :\", is_valid_dataframe(dt2))"
   ]
  },
  {
   "cell_type": "code",
   "execution_count": 660,
   "id": "d9dbaac7",
   "metadata": {},
   "outputs": [],
   "source": [
    "tc.assertTrue( is_valid_dataframe(dt2),\"Data is not valid\")"
   ]
  },
  {
   "cell_type": "code",
   "execution_count": 661,
   "id": "6ceb3111",
   "metadata": {},
   "outputs": [],
   "source": [
    "#Vaccination date is of type yyyy-mm-dd will of type str"
   ]
  },
  {
   "cell_type": "code",
   "execution_count": 662,
   "id": "ff699959",
   "metadata": {},
   "outputs": [
    {
     "data": {
      "text/plain": [
       "str"
      ]
     },
     "execution_count": 662,
     "metadata": {},
     "output_type": "execute_result"
    }
   ],
   "source": [
    "type(dt2['VaccinationDate'].iloc[0])"
   ]
  },
  {
   "cell_type": "code",
   "execution_count": 663,
   "id": "507b90e9",
   "metadata": {},
   "outputs": [],
   "source": [
    "dt2['VaccinationDate'] =  dt2['VaccinationDate'].map(lambda x : datetime.datetime.strptime(x, '%Y-%m-%d'))"
   ]
  },
  {
   "cell_type": "code",
   "execution_count": 664,
   "id": "ab913119",
   "metadata": {},
   "outputs": [
    {
     "data": {
      "text/html": [
       "<div>\n",
       "<style scoped>\n",
       "    .dataframe tbody tr th:only-of-type {\n",
       "        vertical-align: middle;\n",
       "    }\n",
       "\n",
       "    .dataframe tbody tr th {\n",
       "        vertical-align: top;\n",
       "    }\n",
       "\n",
       "    .dataframe thead th {\n",
       "        text-align: right;\n",
       "    }\n",
       "</style>\n",
       "<table border=\"1\" class=\"dataframe\">\n",
       "  <thead>\n",
       "    <tr style=\"text-align: right;\">\n",
       "      <th></th>\n",
       "      <th>ID</th>\n",
       "      <th>Name</th>\n",
       "      <th>DOB</th>\n",
       "      <th>VaccinationType</th>\n",
       "      <th>VaccinationDate</th>\n",
       "      <th>Free or Paid</th>\n",
       "    </tr>\n",
       "  </thead>\n",
       "  <tbody>\n",
       "    <tr>\n",
       "      <th>0</th>\n",
       "      <td>1</td>\n",
       "      <td>Vikas</td>\n",
       "      <td>1998-12-01</td>\n",
       "      <td>XYZ</td>\n",
       "      <td>2022-01-01</td>\n",
       "      <td>F</td>\n",
       "    </tr>\n",
       "    <tr>\n",
       "      <th>1</th>\n",
       "      <td>2</td>\n",
       "      <td>Rahul</td>\n",
       "      <td>1982-08-13</td>\n",
       "      <td>ABC</td>\n",
       "      <td>2022-03-05</td>\n",
       "      <td>P</td>\n",
       "    </tr>\n",
       "    <tr>\n",
       "      <th>2</th>\n",
       "      <td>3</td>\n",
       "      <td>Sameer</td>\n",
       "      <td>1952-08-13</td>\n",
       "      <td>ABC</td>\n",
       "      <td>2022-02-20</td>\n",
       "      <td>F</td>\n",
       "    </tr>\n",
       "  </tbody>\n",
       "</table>\n",
       "</div>"
      ],
      "text/plain": [
       "   ID    Name         DOB VaccinationType VaccinationDate Free or Paid\n",
       "0   1   Vikas  1998-12-01             XYZ      2022-01-01            F\n",
       "1   2   Rahul  1982-08-13             ABC      2022-03-05            P\n",
       "2   3  Sameer  1952-08-13             ABC      2022-02-20            F"
      ]
     },
     "execution_count": 664,
     "metadata": {},
     "output_type": "execute_result"
    }
   ],
   "source": [
    "dt2.head()"
   ]
  },
  {
   "cell_type": "code",
   "execution_count": 665,
   "id": "1bcd781d",
   "metadata": {},
   "outputs": [
    {
     "data": {
      "text/plain": [
       "pandas._libs.tslibs.timestamps.Timestamp"
      ]
     },
     "execution_count": 665,
     "metadata": {},
     "output_type": "execute_result"
    }
   ],
   "source": [
    "type(dt2['VaccinationDate'].iloc[0])"
   ]
  },
  {
   "cell_type": "code",
   "execution_count": null,
   "id": "16257aa8",
   "metadata": {},
   "outputs": [],
   "source": []
  },
  {
   "cell_type": "code",
   "execution_count": 666,
   "id": "16a24b68",
   "metadata": {},
   "outputs": [],
   "source": [
    "#AUS.xlsx"
   ]
  },
  {
   "cell_type": "code",
   "execution_count": 667,
   "id": "68cb174c",
   "metadata": {},
   "outputs": [],
   "source": [
    "dt3  = pd.read_excel('AUS.xlsx')"
   ]
  },
  {
   "cell_type": "code",
   "execution_count": 668,
   "id": "58322d5c",
   "metadata": {},
   "outputs": [
    {
     "data": {
      "text/plain": [
       "(3, 5)"
      ]
     },
     "execution_count": 668,
     "metadata": {},
     "output_type": "execute_result"
    }
   ],
   "source": [
    "dt3.shape"
   ]
  },
  {
   "cell_type": "code",
   "execution_count": 669,
   "id": "61ed254f",
   "metadata": {},
   "outputs": [
    {
     "data": {
      "text/html": [
       "<div>\n",
       "<style scoped>\n",
       "    .dataframe tbody tr th:only-of-type {\n",
       "        vertical-align: middle;\n",
       "    }\n",
       "\n",
       "    .dataframe tbody tr th {\n",
       "        vertical-align: top;\n",
       "    }\n",
       "\n",
       "    .dataframe thead th {\n",
       "        text-align: right;\n",
       "    }\n",
       "</style>\n",
       "<table border=\"1\" class=\"dataframe\">\n",
       "  <thead>\n",
       "    <tr style=\"text-align: right;\">\n",
       "      <th></th>\n",
       "      <th>Unique ID</th>\n",
       "      <th>Patient Name</th>\n",
       "      <th>Vaccine Type</th>\n",
       "      <th>Date of Birth</th>\n",
       "      <th>Date of Vaccination</th>\n",
       "    </tr>\n",
       "  </thead>\n",
       "  <tbody>\n",
       "    <tr>\n",
       "      <th>0</th>\n",
       "      <td>1</td>\n",
       "      <td>Mike</td>\n",
       "      <td>LMN</td>\n",
       "      <td>NaT</td>\n",
       "      <td>2022-05-11 00:00:00</td>\n",
       "    </tr>\n",
       "    <tr>\n",
       "      <th>1</th>\n",
       "      <td>2</td>\n",
       "      <td>Jonnathan</td>\n",
       "      <td>XYZ</td>\n",
       "      <td>1997-12-13</td>\n",
       "      <td>2021-13-13</td>\n",
       "    </tr>\n",
       "    <tr>\n",
       "      <th>2</th>\n",
       "      <td>3</td>\n",
       "      <td>Cristina</td>\n",
       "      <td>ABC</td>\n",
       "      <td>1998-03-12</td>\n",
       "      <td>2022-03-12 00:00:00</td>\n",
       "    </tr>\n",
       "  </tbody>\n",
       "</table>\n",
       "</div>"
      ],
      "text/plain": [
       "   Unique ID Patient Name Vaccine Type Date of Birth  Date of Vaccination\n",
       "0          1         Mike          LMN           NaT  2022-05-11 00:00:00\n",
       "1          2    Jonnathan          XYZ    1997-12-13           2021-13-13\n",
       "2          3     Cristina          ABC    1998-03-12  2022-03-12 00:00:00"
      ]
     },
     "execution_count": 669,
     "metadata": {},
     "output_type": "execute_result"
    }
   ],
   "source": [
    "dt3.head()"
   ]
  },
  {
   "cell_type": "code",
   "execution_count": 670,
   "id": "8bb112af",
   "metadata": {},
   "outputs": [],
   "source": [
    "#Date of vaccination is of type yyyy-mm-dd. Will later convert to datetime using helper function"
   ]
  },
  {
   "cell_type": "code",
   "execution_count": 671,
   "id": "0bff0139",
   "metadata": {},
   "outputs": [
    {
     "data": {
      "text/html": [
       "<div>\n",
       "<style scoped>\n",
       "    .dataframe tbody tr th:only-of-type {\n",
       "        vertical-align: middle;\n",
       "    }\n",
       "\n",
       "    .dataframe tbody tr th {\n",
       "        vertical-align: top;\n",
       "    }\n",
       "\n",
       "    .dataframe thead th {\n",
       "        text-align: right;\n",
       "    }\n",
       "</style>\n",
       "<table border=\"1\" class=\"dataframe\">\n",
       "  <thead>\n",
       "    <tr style=\"text-align: right;\">\n",
       "      <th></th>\n",
       "      <th>Unique ID</th>\n",
       "      <th>Patient Name</th>\n",
       "      <th>Vaccine Type</th>\n",
       "      <th>Date of Birth</th>\n",
       "      <th>Date of Vaccination</th>\n",
       "    </tr>\n",
       "  </thead>\n",
       "  <tbody>\n",
       "    <tr>\n",
       "      <th>count</th>\n",
       "      <td>3.0</td>\n",
       "      <td>3</td>\n",
       "      <td>3</td>\n",
       "      <td>2</td>\n",
       "      <td>3</td>\n",
       "    </tr>\n",
       "    <tr>\n",
       "      <th>unique</th>\n",
       "      <td>NaN</td>\n",
       "      <td>3</td>\n",
       "      <td>3</td>\n",
       "      <td>2</td>\n",
       "      <td>3</td>\n",
       "    </tr>\n",
       "    <tr>\n",
       "      <th>top</th>\n",
       "      <td>NaN</td>\n",
       "      <td>Mike</td>\n",
       "      <td>LMN</td>\n",
       "      <td>1997-12-13 00:00:00</td>\n",
       "      <td>2022-05-11 00:00:00</td>\n",
       "    </tr>\n",
       "    <tr>\n",
       "      <th>freq</th>\n",
       "      <td>NaN</td>\n",
       "      <td>1</td>\n",
       "      <td>1</td>\n",
       "      <td>1</td>\n",
       "      <td>1</td>\n",
       "    </tr>\n",
       "    <tr>\n",
       "      <th>first</th>\n",
       "      <td>NaN</td>\n",
       "      <td>NaN</td>\n",
       "      <td>NaN</td>\n",
       "      <td>1997-12-13 00:00:00</td>\n",
       "      <td>NaN</td>\n",
       "    </tr>\n",
       "    <tr>\n",
       "      <th>last</th>\n",
       "      <td>NaN</td>\n",
       "      <td>NaN</td>\n",
       "      <td>NaN</td>\n",
       "      <td>1998-03-12 00:00:00</td>\n",
       "      <td>NaN</td>\n",
       "    </tr>\n",
       "    <tr>\n",
       "      <th>mean</th>\n",
       "      <td>2.0</td>\n",
       "      <td>NaN</td>\n",
       "      <td>NaN</td>\n",
       "      <td>NaN</td>\n",
       "      <td>NaN</td>\n",
       "    </tr>\n",
       "    <tr>\n",
       "      <th>std</th>\n",
       "      <td>1.0</td>\n",
       "      <td>NaN</td>\n",
       "      <td>NaN</td>\n",
       "      <td>NaN</td>\n",
       "      <td>NaN</td>\n",
       "    </tr>\n",
       "    <tr>\n",
       "      <th>min</th>\n",
       "      <td>1.0</td>\n",
       "      <td>NaN</td>\n",
       "      <td>NaN</td>\n",
       "      <td>NaN</td>\n",
       "      <td>NaN</td>\n",
       "    </tr>\n",
       "    <tr>\n",
       "      <th>25%</th>\n",
       "      <td>1.5</td>\n",
       "      <td>NaN</td>\n",
       "      <td>NaN</td>\n",
       "      <td>NaN</td>\n",
       "      <td>NaN</td>\n",
       "    </tr>\n",
       "    <tr>\n",
       "      <th>50%</th>\n",
       "      <td>2.0</td>\n",
       "      <td>NaN</td>\n",
       "      <td>NaN</td>\n",
       "      <td>NaN</td>\n",
       "      <td>NaN</td>\n",
       "    </tr>\n",
       "    <tr>\n",
       "      <th>75%</th>\n",
       "      <td>2.5</td>\n",
       "      <td>NaN</td>\n",
       "      <td>NaN</td>\n",
       "      <td>NaN</td>\n",
       "      <td>NaN</td>\n",
       "    </tr>\n",
       "    <tr>\n",
       "      <th>max</th>\n",
       "      <td>3.0</td>\n",
       "      <td>NaN</td>\n",
       "      <td>NaN</td>\n",
       "      <td>NaN</td>\n",
       "      <td>NaN</td>\n",
       "    </tr>\n",
       "  </tbody>\n",
       "</table>\n",
       "</div>"
      ],
      "text/plain": [
       "        Unique ID Patient Name Vaccine Type        Date of Birth  \\\n",
       "count         3.0            3            3                    2   \n",
       "unique        NaN            3            3                    2   \n",
       "top           NaN         Mike          LMN  1997-12-13 00:00:00   \n",
       "freq          NaN            1            1                    1   \n",
       "first         NaN          NaN          NaN  1997-12-13 00:00:00   \n",
       "last          NaN          NaN          NaN  1998-03-12 00:00:00   \n",
       "mean          2.0          NaN          NaN                  NaN   \n",
       "std           1.0          NaN          NaN                  NaN   \n",
       "min           1.0          NaN          NaN                  NaN   \n",
       "25%           1.5          NaN          NaN                  NaN   \n",
       "50%           2.0          NaN          NaN                  NaN   \n",
       "75%           2.5          NaN          NaN                  NaN   \n",
       "max           3.0          NaN          NaN                  NaN   \n",
       "\n",
       "        Date of Vaccination  \n",
       "count                     3  \n",
       "unique                    3  \n",
       "top     2022-05-11 00:00:00  \n",
       "freq                      1  \n",
       "first                   NaN  \n",
       "last                    NaN  \n",
       "mean                    NaN  \n",
       "std                     NaN  \n",
       "min                     NaN  \n",
       "25%                     NaN  \n",
       "50%                     NaN  \n",
       "75%                     NaN  \n",
       "max                     NaN  "
      ]
     },
     "execution_count": 671,
     "metadata": {},
     "output_type": "execute_result"
    }
   ],
   "source": [
    "#statistical summary\n",
    "dt3.describe(include=\"all\")"
   ]
  },
  {
   "cell_type": "code",
   "execution_count": 672,
   "id": "5e12404e",
   "metadata": {},
   "outputs": [
    {
     "name": "stdout",
     "output_type": "stream",
     "text": [
      "<class 'pandas.core.frame.DataFrame'>\n",
      "RangeIndex: 3 entries, 0 to 2\n",
      "Data columns (total 5 columns):\n",
      " #   Column               Non-Null Count  Dtype         \n",
      "---  ------               --------------  -----         \n",
      " 0   Unique ID            3 non-null      int64         \n",
      " 1   Patient Name         3 non-null      object        \n",
      " 2   Vaccine Type         3 non-null      object        \n",
      " 3   Date of Birth        2 non-null      datetime64[ns]\n",
      " 4   Date of Vaccination  3 non-null      object        \n",
      "dtypes: datetime64[ns](1), int64(1), object(3)\n",
      "memory usage: 248.0+ bytes\n"
     ]
    }
   ],
   "source": [
    "dt3.info()"
   ]
  },
  {
   "cell_type": "code",
   "execution_count": 673,
   "id": "9118299a",
   "metadata": {},
   "outputs": [
    {
     "data": {
      "text/plain": [
       "Unique ID              3\n",
       "Patient Name           3\n",
       "Vaccine Type           3\n",
       "Date of Birth          2\n",
       "Date of Vaccination    3\n",
       "dtype: int64"
      ]
     },
     "execution_count": 673,
     "metadata": {},
     "output_type": "execute_result"
    }
   ],
   "source": [
    "dt3.nunique()"
   ]
  },
  {
   "cell_type": "code",
   "execution_count": 674,
   "id": "c7f757a3",
   "metadata": {},
   "outputs": [
    {
     "data": {
      "text/plain": [
       "Unique ID              0\n",
       "Patient Name           0\n",
       "Vaccine Type           0\n",
       "Date of Birth          1\n",
       "Date of Vaccination    0\n",
       "dtype: int64"
      ]
     },
     "execution_count": 674,
     "metadata": {},
     "output_type": "execute_result"
    }
   ],
   "source": [
    "#Null values per column\n",
    "dt3.isna().sum()"
   ]
  },
  {
   "cell_type": "code",
   "execution_count": 675,
   "id": "aa2e06e8",
   "metadata": {},
   "outputs": [],
   "source": [
    "#One null value in date of birth"
   ]
  },
  {
   "cell_type": "code",
   "execution_count": 676,
   "id": "a65fd61d",
   "metadata": {},
   "outputs": [],
   "source": [
    "#Data testing\n",
    "\n",
    "def is_valid_id(df):\n",
    "    # Check if ID is unique and greater than zero\n",
    "    if not df['Unique ID'].is_unique:\n",
    "        return False\n",
    "    if (df['Unique ID'] <= 0).any():\n",
    "        return False\n",
    "    return True\n",
    "\n",
    "\n",
    "def is_valid_patient_name(df):\n",
    "    # Check if patient name column only contains alphabets and spaces\n",
    "    if not df['Patient Name'].str.match(r'^[a-zA-Z ]+$').all():\n",
    "        return False\n",
    "    return True\n",
    "\n",
    "\n",
    "def is_valid_vaccine_type(df):\n",
    "    # Check if vaccine type is one of the given types\n",
    "    allowed_types = {'ABC', 'XYZ', 'LMN'}\n",
    "    if not set(df['Vaccine Type']).issubset(allowed_types):\n",
    "        return False\n",
    "    return True\n",
    "\n",
    "\n",
    "def is_valid_date_of_birth(df):\n",
    "    # Check if date of birth column contains valid dates\n",
    "    try:\n",
    "        pd.to_datetime(df['Date of Birth'])\n",
    "        return True\n",
    "    except ValueError:\n",
    "        return False\n",
    "\n",
    "\n",
    "def is_valid_date_of_vaccination(df):\n",
    "    # Check if date of vaccination column contains valid dates\n",
    "    try:\n",
    "        pd.to_datetime(df['Date of Vaccination'])\n",
    "        return True\n",
    "    except ValueError:\n",
    "        return False\n",
    "        \n",
    "\n",
    "def is_valid_dataframe1(df):\n",
    "    # Check if all columns contain valid data\n",
    "    if not is_valid_id(df):\n",
    "        print(\"Unique ID is not valid\")\n",
    "        return False\n",
    "    if not is_valid_patient_name(df):\n",
    "        print(\"Patient name is not valid\")\n",
    "        return False\n",
    "    if not is_valid_vaccine_type(df):\n",
    "        print(\"Vaccine type is not valid\")\n",
    "        return False\n",
    "    if not is_valid_date_of_birth(df):\n",
    "        print(\"Date of birth is not valid\")\n",
    "        return False\n",
    "    if not is_valid_date_of_vaccination(df):\n",
    "        print(\"Date of vaccination is not valid\")\n",
    "        return False\n",
    "    return True"
   ]
  },
  {
   "cell_type": "code",
   "execution_count": 677,
   "id": "7a694178",
   "metadata": {},
   "outputs": [
    {
     "name": "stdout",
     "output_type": "stream",
     "text": [
      "Date of vaccination is not valid\n",
      "Is dataframe data valid : False\n"
     ]
    }
   ],
   "source": [
    "print(\"Is dataframe data valid :\", is_valid_dataframe1(dt3))"
   ]
  },
  {
   "cell_type": "code",
   "execution_count": 678,
   "id": "8f039aac",
   "metadata": {},
   "outputs": [
    {
     "name": "stdout",
     "output_type": "stream",
     "text": [
      "Date of vaccination is not valid\n"
     ]
    },
    {
     "ename": "AssertionError",
     "evalue": "False is not true : Data is not valid",
     "output_type": "error",
     "traceback": [
      "\u001b[1;31m---------------------------------------------------------------------------\u001b[0m",
      "\u001b[1;31mAssertionError\u001b[0m                            Traceback (most recent call last)",
      "Input \u001b[1;32mIn [678]\u001b[0m, in \u001b[0;36m<cell line: 1>\u001b[1;34m()\u001b[0m\n\u001b[1;32m----> 1\u001b[0m \u001b[43mtc\u001b[49m\u001b[38;5;241;43m.\u001b[39;49m\u001b[43massertTrue\u001b[49m\u001b[43m(\u001b[49m\u001b[43m \u001b[49m\u001b[43mis_valid_dataframe1\u001b[49m\u001b[43m(\u001b[49m\u001b[43mdt3\u001b[49m\u001b[43m)\u001b[49m\u001b[43m,\u001b[49m\u001b[38;5;124;43m\"\u001b[39;49m\u001b[38;5;124;43mData is not valid\u001b[39;49m\u001b[38;5;124;43m\"\u001b[39;49m\u001b[43m)\u001b[49m\n",
      "File \u001b[1;32m~\\anaconda3\\lib\\unittest\\case.py:688\u001b[0m, in \u001b[0;36mTestCase.assertTrue\u001b[1;34m(self, expr, msg)\u001b[0m\n\u001b[0;32m    686\u001b[0m \u001b[38;5;28;01mif\u001b[39;00m \u001b[38;5;129;01mnot\u001b[39;00m expr:\n\u001b[0;32m    687\u001b[0m     msg \u001b[38;5;241m=\u001b[39m \u001b[38;5;28mself\u001b[39m\u001b[38;5;241m.\u001b[39m_formatMessage(msg, \u001b[38;5;124m\"\u001b[39m\u001b[38;5;132;01m%s\u001b[39;00m\u001b[38;5;124m is not true\u001b[39m\u001b[38;5;124m\"\u001b[39m \u001b[38;5;241m%\u001b[39m safe_repr(expr))\n\u001b[1;32m--> 688\u001b[0m     \u001b[38;5;28;01mraise\u001b[39;00m \u001b[38;5;28mself\u001b[39m\u001b[38;5;241m.\u001b[39mfailureException(msg)\n",
      "\u001b[1;31mAssertionError\u001b[0m: False is not true : Data is not valid"
     ]
    }
   ],
   "source": [
    "tc.assertTrue( is_valid_dataframe1(dt3),\"Data is not valid\")"
   ]
  },
  {
   "cell_type": "code",
   "execution_count": 679,
   "id": "f2219fde",
   "metadata": {},
   "outputs": [],
   "source": [
    "#Date of vaccination is not valid are rest of the columsn are valid"
   ]
  },
  {
   "cell_type": "code",
   "execution_count": 680,
   "id": "6e5c5d88",
   "metadata": {},
   "outputs": [
    {
     "data": {
      "text/plain": [
       "pandas._libs.tslibs.timestamps.Timestamp"
      ]
     },
     "execution_count": 680,
     "metadata": {},
     "output_type": "execute_result"
    }
   ],
   "source": [
    "type(dt3['Date of Birth'].iloc[1])"
   ]
  },
  {
   "cell_type": "code",
   "execution_count": 681,
   "id": "fa27edb3",
   "metadata": {},
   "outputs": [],
   "source": [
    "#Since we had one missing value we in 'Date of Birth' column we are \n",
    "#We use mean value imputation as most people are vaccinated around the same time durind or after the pandemic\n",
    "dt3['Date of Birth'].fillna(dt3['Date of Birth'].mean() , inplace = True)"
   ]
  },
  {
   "cell_type": "code",
   "execution_count": 682,
   "id": "a56a0c05",
   "metadata": {},
   "outputs": [
    {
     "data": {
      "text/html": [
       "<div>\n",
       "<style scoped>\n",
       "    .dataframe tbody tr th:only-of-type {\n",
       "        vertical-align: middle;\n",
       "    }\n",
       "\n",
       "    .dataframe tbody tr th {\n",
       "        vertical-align: top;\n",
       "    }\n",
       "\n",
       "    .dataframe thead th {\n",
       "        text-align: right;\n",
       "    }\n",
       "</style>\n",
       "<table border=\"1\" class=\"dataframe\">\n",
       "  <thead>\n",
       "    <tr style=\"text-align: right;\">\n",
       "      <th></th>\n",
       "      <th>Unique ID</th>\n",
       "      <th>Patient Name</th>\n",
       "      <th>Vaccine Type</th>\n",
       "      <th>Date of Birth</th>\n",
       "      <th>Date of Vaccination</th>\n",
       "    </tr>\n",
       "  </thead>\n",
       "  <tbody>\n",
       "    <tr>\n",
       "      <th>0</th>\n",
       "      <td>1</td>\n",
       "      <td>Mike</td>\n",
       "      <td>LMN</td>\n",
       "      <td>1998-01-26 12:00:00</td>\n",
       "      <td>2022-05-11 00:00:00</td>\n",
       "    </tr>\n",
       "    <tr>\n",
       "      <th>1</th>\n",
       "      <td>2</td>\n",
       "      <td>Jonnathan</td>\n",
       "      <td>XYZ</td>\n",
       "      <td>1997-12-13 00:00:00</td>\n",
       "      <td>2021-13-13</td>\n",
       "    </tr>\n",
       "    <tr>\n",
       "      <th>2</th>\n",
       "      <td>3</td>\n",
       "      <td>Cristina</td>\n",
       "      <td>ABC</td>\n",
       "      <td>1998-03-12 00:00:00</td>\n",
       "      <td>2022-03-12 00:00:00</td>\n",
       "    </tr>\n",
       "  </tbody>\n",
       "</table>\n",
       "</div>"
      ],
      "text/plain": [
       "   Unique ID Patient Name Vaccine Type       Date of Birth  \\\n",
       "0          1         Mike          LMN 1998-01-26 12:00:00   \n",
       "1          2    Jonnathan          XYZ 1997-12-13 00:00:00   \n",
       "2          3     Cristina          ABC 1998-03-12 00:00:00   \n",
       "\n",
       "   Date of Vaccination  \n",
       "0  2022-05-11 00:00:00  \n",
       "1           2021-13-13  \n",
       "2  2022-03-12 00:00:00  "
      ]
     },
     "execution_count": 682,
     "metadata": {},
     "output_type": "execute_result"
    }
   ],
   "source": [
    "dt3.head() "
   ]
  },
  {
   "cell_type": "code",
   "execution_count": 683,
   "id": "10f862f0",
   "metadata": {},
   "outputs": [
    {
     "data": {
      "text/plain": [
       "datetime.datetime"
      ]
     },
     "execution_count": 683,
     "metadata": {},
     "output_type": "execute_result"
    }
   ],
   "source": [
    "#Format yyyy-mm-dd\n",
    "type(dt3['Date of Vaccination'].iloc[0])"
   ]
  },
  {
   "cell_type": "code",
   "execution_count": 684,
   "id": "7a3bbedc",
   "metadata": {},
   "outputs": [
    {
     "name": "stdout",
     "output_type": "stream",
     "text": [
      "DateTime String: 2022-05-11 00:00:00\n"
     ]
    }
   ],
   "source": [
    "#Timestamp is the pandas equivalent of python's Datetime and is interchangeable with it in most cases.\n",
    "s_datetime =  dt3['Date of Vaccination'].iloc[0]\n",
    "date_time_str = s_datetime.strftime(\"%Y-%m-%d %H:%M:%S\")\n",
    "print('DateTime String:', date_time_str)"
   ]
  },
  {
   "cell_type": "code",
   "execution_count": null,
   "id": "78466b0d",
   "metadata": {},
   "outputs": [],
   "source": []
  },
  {
   "cell_type": "code",
   "execution_count": 685,
   "id": "1e050474",
   "metadata": {},
   "outputs": [],
   "source": [
    "#Lets add a function to check if the date values are valid in a column. It replaces the erronous with mean. Can use\n",
    "#backfill and forwardfill as well"
   ]
  },
  {
   "cell_type": "code",
   "execution_count": 686,
   "id": "87cafd3b",
   "metadata": {},
   "outputs": [],
   "source": [
    "def correctDate(date_ser):\n",
    "    res = pd.to_datetime(date_ser,errors='coerce')\n",
    "    res.fillna(res.mean() , inplace = True)\n",
    "    return res"
   ]
  },
  {
   "cell_type": "code",
   "execution_count": 687,
   "id": "02f69f06",
   "metadata": {},
   "outputs": [],
   "source": [
    "dt3['Date of Vaccination'] =  correctDate(dt3['Date of Vaccination'])"
   ]
  },
  {
   "cell_type": "code",
   "execution_count": 688,
   "id": "994792fd",
   "metadata": {},
   "outputs": [
    {
     "name": "stdout",
     "output_type": "stream",
     "text": [
      "Is date of vaccination valid : True\n"
     ]
    }
   ],
   "source": [
    "print(\"Is date of vaccination valid :\", is_valid_date_of_vaccination(dt3))"
   ]
  },
  {
   "cell_type": "code",
   "execution_count": 689,
   "id": "13ad233f",
   "metadata": {},
   "outputs": [
    {
     "data": {
      "text/html": [
       "<div>\n",
       "<style scoped>\n",
       "    .dataframe tbody tr th:only-of-type {\n",
       "        vertical-align: middle;\n",
       "    }\n",
       "\n",
       "    .dataframe tbody tr th {\n",
       "        vertical-align: top;\n",
       "    }\n",
       "\n",
       "    .dataframe thead th {\n",
       "        text-align: right;\n",
       "    }\n",
       "</style>\n",
       "<table border=\"1\" class=\"dataframe\">\n",
       "  <thead>\n",
       "    <tr style=\"text-align: right;\">\n",
       "      <th></th>\n",
       "      <th>Unique ID</th>\n",
       "      <th>Patient Name</th>\n",
       "      <th>Vaccine Type</th>\n",
       "      <th>Date of Birth</th>\n",
       "      <th>Date of Vaccination</th>\n",
       "    </tr>\n",
       "  </thead>\n",
       "  <tbody>\n",
       "    <tr>\n",
       "      <th>0</th>\n",
       "      <td>1</td>\n",
       "      <td>Mike</td>\n",
       "      <td>LMN</td>\n",
       "      <td>1998-01-26 12:00:00</td>\n",
       "      <td>2022-05-11</td>\n",
       "    </tr>\n",
       "    <tr>\n",
       "      <th>1</th>\n",
       "      <td>2</td>\n",
       "      <td>Jonnathan</td>\n",
       "      <td>XYZ</td>\n",
       "      <td>1997-12-13 00:00:00</td>\n",
       "      <td>2022-04-11</td>\n",
       "    </tr>\n",
       "    <tr>\n",
       "      <th>2</th>\n",
       "      <td>3</td>\n",
       "      <td>Cristina</td>\n",
       "      <td>ABC</td>\n",
       "      <td>1998-03-12 00:00:00</td>\n",
       "      <td>2022-03-12</td>\n",
       "    </tr>\n",
       "  </tbody>\n",
       "</table>\n",
       "</div>"
      ],
      "text/plain": [
       "   Unique ID Patient Name Vaccine Type       Date of Birth Date of Vaccination\n",
       "0          1         Mike          LMN 1998-01-26 12:00:00          2022-05-11\n",
       "1          2    Jonnathan          XYZ 1997-12-13 00:00:00          2022-04-11\n",
       "2          3     Cristina          ABC 1998-03-12 00:00:00          2022-03-12"
      ]
     },
     "execution_count": 689,
     "metadata": {},
     "output_type": "execute_result"
    }
   ],
   "source": [
    "dt3.head()"
   ]
  },
  {
   "cell_type": "code",
   "execution_count": 690,
   "id": "c988cd75",
   "metadata": {},
   "outputs": [],
   "source": [
    "#We can use other date clumns also with correctDateDunction to check and correct dates "
   ]
  },
  {
   "cell_type": "code",
   "execution_count": null,
   "id": "9c1d391a",
   "metadata": {},
   "outputs": [],
   "source": []
  },
  {
   "cell_type": "code",
   "execution_count": 691,
   "id": "c9e0603a",
   "metadata": {},
   "outputs": [
    {
     "data": {
      "text/html": [
       "<div>\n",
       "<style scoped>\n",
       "    .dataframe tbody tr th:only-of-type {\n",
       "        vertical-align: middle;\n",
       "    }\n",
       "\n",
       "    .dataframe tbody tr th {\n",
       "        vertical-align: top;\n",
       "    }\n",
       "\n",
       "    .dataframe thead th {\n",
       "        text-align: right;\n",
       "    }\n",
       "</style>\n",
       "<table border=\"1\" class=\"dataframe\">\n",
       "  <thead>\n",
       "    <tr style=\"text-align: right;\">\n",
       "      <th></th>\n",
       "      <th>ID</th>\n",
       "      <th>Name</th>\n",
       "      <th>VaccinationType</th>\n",
       "      <th>VaccinationDate</th>\n",
       "    </tr>\n",
       "  </thead>\n",
       "  <tbody>\n",
       "    <tr>\n",
       "      <th>0</th>\n",
       "      <td>1</td>\n",
       "      <td>Sam</td>\n",
       "      <td>EFG</td>\n",
       "      <td>2022-06-15</td>\n",
       "    </tr>\n",
       "    <tr>\n",
       "      <th>1</th>\n",
       "      <td>2</td>\n",
       "      <td>John</td>\n",
       "      <td>XYZ</td>\n",
       "      <td>2022-10-05</td>\n",
       "    </tr>\n",
       "    <tr>\n",
       "      <th>2</th>\n",
       "      <td>3</td>\n",
       "      <td>Mike</td>\n",
       "      <td>ABC</td>\n",
       "      <td>2021-12-28</td>\n",
       "    </tr>\n",
       "  </tbody>\n",
       "</table>\n",
       "</div>"
      ],
      "text/plain": [
       "   ID  Name VaccinationType VaccinationDate\n",
       "0   1   Sam             EFG      2022-06-15\n",
       "1   2  John             XYZ      2022-10-05\n",
       "2   3  Mike             ABC      2021-12-28"
      ]
     },
     "execution_count": 691,
     "metadata": {},
     "output_type": "execute_result"
    }
   ],
   "source": [
    "dt1.head()"
   ]
  },
  {
   "cell_type": "code",
   "execution_count": 692,
   "id": "789597b2",
   "metadata": {},
   "outputs": [
    {
     "data": {
      "text/html": [
       "<div>\n",
       "<style scoped>\n",
       "    .dataframe tbody tr th:only-of-type {\n",
       "        vertical-align: middle;\n",
       "    }\n",
       "\n",
       "    .dataframe tbody tr th {\n",
       "        vertical-align: top;\n",
       "    }\n",
       "\n",
       "    .dataframe thead th {\n",
       "        text-align: right;\n",
       "    }\n",
       "</style>\n",
       "<table border=\"1\" class=\"dataframe\">\n",
       "  <thead>\n",
       "    <tr style=\"text-align: right;\">\n",
       "      <th></th>\n",
       "      <th>ID</th>\n",
       "      <th>Name</th>\n",
       "      <th>DOB</th>\n",
       "      <th>VaccinationType</th>\n",
       "      <th>VaccinationDate</th>\n",
       "      <th>Free or Paid</th>\n",
       "    </tr>\n",
       "  </thead>\n",
       "  <tbody>\n",
       "    <tr>\n",
       "      <th>0</th>\n",
       "      <td>1</td>\n",
       "      <td>Vikas</td>\n",
       "      <td>1998-12-01</td>\n",
       "      <td>XYZ</td>\n",
       "      <td>2022-01-01</td>\n",
       "      <td>F</td>\n",
       "    </tr>\n",
       "    <tr>\n",
       "      <th>1</th>\n",
       "      <td>2</td>\n",
       "      <td>Rahul</td>\n",
       "      <td>1982-08-13</td>\n",
       "      <td>ABC</td>\n",
       "      <td>2022-03-05</td>\n",
       "      <td>P</td>\n",
       "    </tr>\n",
       "    <tr>\n",
       "      <th>2</th>\n",
       "      <td>3</td>\n",
       "      <td>Sameer</td>\n",
       "      <td>1952-08-13</td>\n",
       "      <td>ABC</td>\n",
       "      <td>2022-02-20</td>\n",
       "      <td>F</td>\n",
       "    </tr>\n",
       "  </tbody>\n",
       "</table>\n",
       "</div>"
      ],
      "text/plain": [
       "   ID    Name         DOB VaccinationType VaccinationDate Free or Paid\n",
       "0   1   Vikas  1998-12-01             XYZ      2022-01-01            F\n",
       "1   2   Rahul  1982-08-13             ABC      2022-03-05            P\n",
       "2   3  Sameer  1952-08-13             ABC      2022-02-20            F"
      ]
     },
     "execution_count": 692,
     "metadata": {},
     "output_type": "execute_result"
    }
   ],
   "source": [
    "dt2.head()"
   ]
  },
  {
   "cell_type": "code",
   "execution_count": 693,
   "id": "7bfe0212",
   "metadata": {},
   "outputs": [
    {
     "data": {
      "text/html": [
       "<div>\n",
       "<style scoped>\n",
       "    .dataframe tbody tr th:only-of-type {\n",
       "        vertical-align: middle;\n",
       "    }\n",
       "\n",
       "    .dataframe tbody tr th {\n",
       "        vertical-align: top;\n",
       "    }\n",
       "\n",
       "    .dataframe thead th {\n",
       "        text-align: right;\n",
       "    }\n",
       "</style>\n",
       "<table border=\"1\" class=\"dataframe\">\n",
       "  <thead>\n",
       "    <tr style=\"text-align: right;\">\n",
       "      <th></th>\n",
       "      <th>Unique ID</th>\n",
       "      <th>Patient Name</th>\n",
       "      <th>Vaccine Type</th>\n",
       "      <th>Date of Birth</th>\n",
       "      <th>Date of Vaccination</th>\n",
       "    </tr>\n",
       "  </thead>\n",
       "  <tbody>\n",
       "    <tr>\n",
       "      <th>0</th>\n",
       "      <td>1</td>\n",
       "      <td>Mike</td>\n",
       "      <td>LMN</td>\n",
       "      <td>1998-01-26 12:00:00</td>\n",
       "      <td>2022-05-11</td>\n",
       "    </tr>\n",
       "    <tr>\n",
       "      <th>1</th>\n",
       "      <td>2</td>\n",
       "      <td>Jonnathan</td>\n",
       "      <td>XYZ</td>\n",
       "      <td>1997-12-13 00:00:00</td>\n",
       "      <td>2022-04-11</td>\n",
       "    </tr>\n",
       "    <tr>\n",
       "      <th>2</th>\n",
       "      <td>3</td>\n",
       "      <td>Cristina</td>\n",
       "      <td>ABC</td>\n",
       "      <td>1998-03-12 00:00:00</td>\n",
       "      <td>2022-03-12</td>\n",
       "    </tr>\n",
       "  </tbody>\n",
       "</table>\n",
       "</div>"
      ],
      "text/plain": [
       "   Unique ID Patient Name Vaccine Type       Date of Birth Date of Vaccination\n",
       "0          1         Mike          LMN 1998-01-26 12:00:00          2022-05-11\n",
       "1          2    Jonnathan          XYZ 1997-12-13 00:00:00          2022-04-11\n",
       "2          3     Cristina          ABC 1998-03-12 00:00:00          2022-03-12"
      ]
     },
     "execution_count": 693,
     "metadata": {},
     "output_type": "execute_result"
    }
   ],
   "source": [
    "dt3.head()"
   ]
  },
  {
   "cell_type": "code",
   "execution_count": 694,
   "id": "d178541a",
   "metadata": {},
   "outputs": [],
   "source": [
    "dt1['Country'] = [\"USA\"] * 3"
   ]
  },
  {
   "cell_type": "code",
   "execution_count": 695,
   "id": "48e606c7",
   "metadata": {},
   "outputs": [],
   "source": [
    "dt2['Country'] = [\"IND\"] * 3"
   ]
  },
  {
   "cell_type": "code",
   "execution_count": 696,
   "id": "576511f5",
   "metadata": {},
   "outputs": [],
   "source": [
    "dt3['Country'] = [\"AUS\"] * 3"
   ]
  },
  {
   "cell_type": "code",
   "execution_count": 697,
   "id": "9c15b05a",
   "metadata": {},
   "outputs": [],
   "source": [
    "dt3 = dt3.rename(columns={'Unique ID': 'ID', 'Patient Name': 'Name', 'Vaccine Type' : 'VaccinationType', 'Date of Birth': 'DOB', 'Date of Vaccination': 'VaccinationDate'})"
   ]
  },
  {
   "cell_type": "code",
   "execution_count": 698,
   "id": "d6d3ad55",
   "metadata": {},
   "outputs": [
    {
     "data": {
      "text/html": [
       "<div>\n",
       "<style scoped>\n",
       "    .dataframe tbody tr th:only-of-type {\n",
       "        vertical-align: middle;\n",
       "    }\n",
       "\n",
       "    .dataframe tbody tr th {\n",
       "        vertical-align: top;\n",
       "    }\n",
       "\n",
       "    .dataframe thead th {\n",
       "        text-align: right;\n",
       "    }\n",
       "</style>\n",
       "<table border=\"1\" class=\"dataframe\">\n",
       "  <thead>\n",
       "    <tr style=\"text-align: right;\">\n",
       "      <th></th>\n",
       "      <th>ID</th>\n",
       "      <th>Name</th>\n",
       "      <th>VaccinationType</th>\n",
       "      <th>DOB</th>\n",
       "      <th>VaccinationDate</th>\n",
       "      <th>Country</th>\n",
       "    </tr>\n",
       "  </thead>\n",
       "  <tbody>\n",
       "    <tr>\n",
       "      <th>0</th>\n",
       "      <td>1</td>\n",
       "      <td>Mike</td>\n",
       "      <td>LMN</td>\n",
       "      <td>1998-01-26 12:00:00</td>\n",
       "      <td>2022-05-11</td>\n",
       "      <td>AUS</td>\n",
       "    </tr>\n",
       "    <tr>\n",
       "      <th>1</th>\n",
       "      <td>2</td>\n",
       "      <td>Jonnathan</td>\n",
       "      <td>XYZ</td>\n",
       "      <td>1997-12-13 00:00:00</td>\n",
       "      <td>2022-04-11</td>\n",
       "      <td>AUS</td>\n",
       "    </tr>\n",
       "    <tr>\n",
       "      <th>2</th>\n",
       "      <td>3</td>\n",
       "      <td>Cristina</td>\n",
       "      <td>ABC</td>\n",
       "      <td>1998-03-12 00:00:00</td>\n",
       "      <td>2022-03-12</td>\n",
       "      <td>AUS</td>\n",
       "    </tr>\n",
       "  </tbody>\n",
       "</table>\n",
       "</div>"
      ],
      "text/plain": [
       "   ID       Name VaccinationType                 DOB VaccinationDate Country\n",
       "0   1       Mike             LMN 1998-01-26 12:00:00      2022-05-11     AUS\n",
       "1   2  Jonnathan             XYZ 1997-12-13 00:00:00      2022-04-11     AUS\n",
       "2   3   Cristina             ABC 1998-03-12 00:00:00      2022-03-12     AUS"
      ]
     },
     "execution_count": 698,
     "metadata": {},
     "output_type": "execute_result"
    }
   ],
   "source": [
    "dt3.head()"
   ]
  },
  {
   "cell_type": "code",
   "execution_count": 699,
   "id": "34298880",
   "metadata": {},
   "outputs": [],
   "source": [
    "li = ['Name', 'VaccinationType', 'VaccinationDate', 'Country']\n",
    "dt_list = [dt1[li],\n",
    "           dt2[li],\n",
    "           dt3[li]]"
   ]
  },
  {
   "cell_type": "code",
   "execution_count": 700,
   "id": "68da4f52",
   "metadata": {},
   "outputs": [],
   "source": [
    "dt_res = pd.concat(dt_list, ignore_index=True)"
   ]
  },
  {
   "cell_type": "code",
   "execution_count": 701,
   "id": "94ee6fea",
   "metadata": {},
   "outputs": [
    {
     "data": {
      "text/html": [
       "<div>\n",
       "<style scoped>\n",
       "    .dataframe tbody tr th:only-of-type {\n",
       "        vertical-align: middle;\n",
       "    }\n",
       "\n",
       "    .dataframe tbody tr th {\n",
       "        vertical-align: top;\n",
       "    }\n",
       "\n",
       "    .dataframe thead th {\n",
       "        text-align: right;\n",
       "    }\n",
       "</style>\n",
       "<table border=\"1\" class=\"dataframe\">\n",
       "  <thead>\n",
       "    <tr style=\"text-align: right;\">\n",
       "      <th></th>\n",
       "      <th>Name</th>\n",
       "      <th>VaccinationType</th>\n",
       "      <th>VaccinationDate</th>\n",
       "      <th>Country</th>\n",
       "    </tr>\n",
       "  </thead>\n",
       "  <tbody>\n",
       "    <tr>\n",
       "      <th>0</th>\n",
       "      <td>Sam</td>\n",
       "      <td>EFG</td>\n",
       "      <td>2022-06-15</td>\n",
       "      <td>USA</td>\n",
       "    </tr>\n",
       "    <tr>\n",
       "      <th>1</th>\n",
       "      <td>John</td>\n",
       "      <td>XYZ</td>\n",
       "      <td>2022-10-05</td>\n",
       "      <td>USA</td>\n",
       "    </tr>\n",
       "    <tr>\n",
       "      <th>2</th>\n",
       "      <td>Mike</td>\n",
       "      <td>ABC</td>\n",
       "      <td>2021-12-28</td>\n",
       "      <td>USA</td>\n",
       "    </tr>\n",
       "    <tr>\n",
       "      <th>3</th>\n",
       "      <td>Vikas</td>\n",
       "      <td>XYZ</td>\n",
       "      <td>2022-01-01</td>\n",
       "      <td>IND</td>\n",
       "    </tr>\n",
       "    <tr>\n",
       "      <th>4</th>\n",
       "      <td>Rahul</td>\n",
       "      <td>ABC</td>\n",
       "      <td>2022-03-05</td>\n",
       "      <td>IND</td>\n",
       "    </tr>\n",
       "    <tr>\n",
       "      <th>5</th>\n",
       "      <td>Sameer</td>\n",
       "      <td>ABC</td>\n",
       "      <td>2022-02-20</td>\n",
       "      <td>IND</td>\n",
       "    </tr>\n",
       "    <tr>\n",
       "      <th>6</th>\n",
       "      <td>Mike</td>\n",
       "      <td>LMN</td>\n",
       "      <td>2022-05-11</td>\n",
       "      <td>AUS</td>\n",
       "    </tr>\n",
       "    <tr>\n",
       "      <th>7</th>\n",
       "      <td>Jonnathan</td>\n",
       "      <td>XYZ</td>\n",
       "      <td>2022-04-11</td>\n",
       "      <td>AUS</td>\n",
       "    </tr>\n",
       "    <tr>\n",
       "      <th>8</th>\n",
       "      <td>Cristina</td>\n",
       "      <td>ABC</td>\n",
       "      <td>2022-03-12</td>\n",
       "      <td>AUS</td>\n",
       "    </tr>\n",
       "  </tbody>\n",
       "</table>\n",
       "</div>"
      ],
      "text/plain": [
       "        Name VaccinationType VaccinationDate Country\n",
       "0        Sam             EFG      2022-06-15     USA\n",
       "1       John             XYZ      2022-10-05     USA\n",
       "2       Mike             ABC      2021-12-28     USA\n",
       "3      Vikas             XYZ      2022-01-01     IND\n",
       "4      Rahul             ABC      2022-03-05     IND\n",
       "5     Sameer             ABC      2022-02-20     IND\n",
       "6       Mike             LMN      2022-05-11     AUS\n",
       "7  Jonnathan             XYZ      2022-04-11     AUS\n",
       "8   Cristina             ABC      2022-03-12     AUS"
      ]
     },
     "execution_count": 701,
     "metadata": {},
     "output_type": "execute_result"
    }
   ],
   "source": [
    "#Merged data into single source of truth. Other columns are not needed to answer the questions hence not added\n",
    "dt_res"
   ]
  },
  {
   "cell_type": "code",
   "execution_count": 702,
   "id": "e47a7acc",
   "metadata": {},
   "outputs": [
    {
     "data": {
      "text/plain": [
       "Country  VaccinationType\n",
       "AUS      ABC                1\n",
       "         LMN                1\n",
       "         XYZ                1\n",
       "IND      ABC                2\n",
       "         XYZ                1\n",
       "USA      ABC                1\n",
       "         EFG                1\n",
       "         XYZ                1\n",
       "dtype: int64"
      ]
     },
     "execution_count": 702,
     "metadata": {},
     "output_type": "execute_result"
    }
   ],
   "source": [
    "#Total vaccination count by country and vaccination type\n",
    "dt_res.groupby([\"Country\",\"VaccinationType\"]).size()"
   ]
  },
  {
   "cell_type": "code",
   "execution_count": 703,
   "id": "3acd283d",
   "metadata": {},
   "outputs": [],
   "source": [
    "df_res1 =  dt_res.groupby([\"Country\",\"VaccinationType\"]).size()"
   ]
  },
  {
   "cell_type": "code",
   "execution_count": 738,
   "id": "13e1ca8f",
   "metadata": {},
   "outputs": [
    {
     "data": {
      "text/plain": [
       "pandas.core.frame.DataFrame"
      ]
     },
     "execution_count": 738,
     "metadata": {},
     "output_type": "execute_result"
    }
   ],
   "source": [
    "type(df_res1)"
   ]
  },
  {
   "cell_type": "markdown",
   "id": "5613078c",
   "metadata": {},
   "source": [
    "Note : For unit testing of results inside the function where unit tests are being done; since the dataframe is small I used it in its entirety. \n",
    "\n",
    "This is a naive way to do it. For a big dataset we can use a sample small dataframe and use expected output for it. If our algorithm / logic works for the smaller dataframe it must work for any bigger sized one as well. Becuase for very big datasets we cannot calculate all the expected values manually. Smaller data frame can be an extract or part or the bigger one or a dataframe which we create synthetically mimicing the column names and data types of the original dataframe.\n",
    "\n",
    "Also another way is to use function that takes (dataframe or series) and (expected output) as input parameters.\n"
   ]
  },
  {
   "cell_type": "code",
   "execution_count": 739,
   "id": "77881d1f",
   "metadata": {},
   "outputs": [],
   "source": [
    "#Unit test for testing total vaccination count by country and type\n",
    "\n",
    "\n",
    "\n",
    "def test_total_vaccination_count():\n",
    "    # create a sample DataFrame\n",
    "    data = {'Name': ['Sam', 'John', 'Mike', 'Vikas', 'Rahul', 'Sameer', 'Mike', 'Jonnathan', 'Cristina'],\n",
    "        'VaccinationType': ['EFG', 'XYZ', 'ABC', 'XYZ', 'ABC', 'ABC', 'LMN', 'XYZ', 'ABC'],\n",
    "        'VaccinationDate': ['2022-06-15', '2022-10-05', '2021-12-28', '2022-01-01', '2022-03-05', '2022-02-20', '2022-05-11', '2022-04-11', '2022-03-12'],\n",
    "        'Country': ['USA', 'USA', 'USA', 'IND', 'IND', 'IND', 'AUS', 'AUS', 'AUS']}\n",
    "    df = pd.DataFrame(data)\n",
    "    \n",
    "    # get the expected output\n",
    "    expected_output = pd.DataFrame({'Count': [1, 1, 1, 2, 1, 1,1,1]}, index=pd.MultiIndex.from_tuples([('AUS', 'ABC'),('AUS', 'LMN'), ('AUS', 'XYZ'), ('IND', 'ABC'), ('IND', 'XYZ'), ('USA', 'ABC'), ('USA', 'EFG'),('USA', 'XYZ')], names=['Country', 'VaccinationType']))\n",
    "    \n",
    "   \n",
    "    actual_output = df.groupby([\"Country\", \"VaccinationType\"]).size().reset_index(name=\"Count\").set_index([\"Country\", \"VaccinationType\"])\n",
    "  \n",
    "    \n",
    "    # compare the expected output to the actual output\n",
    "    pd.testing.assert_frame_equal(expected_output, actual_output)\n",
    "    return(\"Valid result data for : total vaccination count by country and type \")"
   ]
  },
  {
   "cell_type": "code",
   "execution_count": 740,
   "id": "d9d384d8",
   "metadata": {},
   "outputs": [
    {
     "name": "stdout",
     "output_type": "stream",
     "text": [
      "Valid result data for : total vaccination count by country and type \n"
     ]
    }
   ],
   "source": [
    "print(test_total_vaccination_count())"
   ]
  },
  {
   "cell_type": "code",
   "execution_count": null,
   "id": "c89ea491",
   "metadata": {},
   "outputs": [],
   "source": []
  },
  {
   "cell_type": "code",
   "execution_count": 741,
   "id": "4bbd20b7",
   "metadata": {},
   "outputs": [],
   "source": [
    "# %vaccination in each country (You can assume values for total population)\n",
    "#Lets assume population for USA is 5, IND is 10 and AUS is 4\n",
    "pop_len = pd.Series([5,10,4])"
   ]
  },
  {
   "cell_type": "code",
   "execution_count": 742,
   "id": "8281e600",
   "metadata": {},
   "outputs": [],
   "source": [
    "pop_len.index = ['USA','IND','AUS'] "
   ]
  },
  {
   "cell_type": "code",
   "execution_count": 743,
   "id": "ddb82e6b",
   "metadata": {},
   "outputs": [],
   "source": [
    "vacc_len =  dt_res.groupby([\"Country\"]).size()"
   ]
  },
  {
   "cell_type": "code",
   "execution_count": 744,
   "id": "9487a58e",
   "metadata": {},
   "outputs": [
    {
     "data": {
      "text/plain": [
       "Country\n",
       "AUS    3\n",
       "IND    3\n",
       "USA    3\n",
       "dtype: int64"
      ]
     },
     "execution_count": 744,
     "metadata": {},
     "output_type": "execute_result"
    }
   ],
   "source": [
    "#Number of people vaccianted in each country\n",
    "vacc_len"
   ]
  },
  {
   "cell_type": "code",
   "execution_count": 745,
   "id": "9dcaf506",
   "metadata": {},
   "outputs": [
    {
     "data": {
      "text/plain": [
       "USA     5\n",
       "IND    10\n",
       "AUS     4\n",
       "dtype: int64"
      ]
     },
     "execution_count": 745,
     "metadata": {},
     "output_type": "execute_result"
    }
   ],
   "source": [
    "#Population of each country\n",
    "pop_len"
   ]
  },
  {
   "cell_type": "code",
   "execution_count": 712,
   "id": "560ab539",
   "metadata": {},
   "outputs": [],
   "source": [
    "res_percentage = pd.Series([])\n",
    "\n",
    "for items in vacc_len.iteritems():\n",
    "    res_percentage[items[0]] = (items[1] / pop_len[items[0]] * 100)"
   ]
  },
  {
   "cell_type": "code",
   "execution_count": 713,
   "id": "b2c9de02",
   "metadata": {},
   "outputs": [
    {
     "data": {
      "text/plain": [
       "AUS    75.0\n",
       "IND    30.0\n",
       "USA    60.0\n",
       "dtype: float64"
      ]
     },
     "execution_count": 713,
     "metadata": {},
     "output_type": "execute_result"
    }
   ],
   "source": [
    "#Percentage vaccinated in each country\n",
    "res_percentage"
   ]
  },
  {
   "cell_type": "code",
   "execution_count": 714,
   "id": "f9dea421",
   "metadata": {},
   "outputs": [],
   "source": [
    "#Unit test for percentage of vaccination in each country\n",
    "\n",
    "\n",
    "def assert_series_equal(expected, actual, check_dtype=True, check_index_type=False):\n",
    "    \"\"\"\n",
    "    Asserts that two Pandas Series objects are equal.\n",
    "\n",
    "    Parameters:\n",
    "    expected (pandas.Series): The expected Series object.\n",
    "    actual (pandas.Series): The actual Series object.\n",
    "    check_dtype (bool): Whether to check that the data types match. Defaults to True.\n",
    "    check_index_type (bool): Whether to check that the index types match. Defaults to False.\n",
    "\n",
    "    Raises:\n",
    "    AssertionError: If the two Series objects are not equal.\n",
    "    \"\"\"\n",
    "\n",
    "    # Check that the index objects are equal\n",
    "    pd.testing.assert_index_equal(expected.index, actual.index)\n",
    "\n",
    "    # Check that the data values are equal\n",
    "    pd.testing.assert_series_equal(expected, actual, check_dtype=check_dtype)\n",
    "\n",
    "    # Check that the index types are equal, if requested\n",
    "    if check_index_type:\n",
    "        assert type(expected.index) == type(actual.index)\n",
    "\n",
    "\n",
    "def test_vaccination_percentage():\n",
    "    # create a sample DataFrame\n",
    "    data = {'Name': ['Sam', 'John', 'Mike', 'Vikas', 'Rahul', 'Sameer', 'Mike', 'Jonnathan', 'Cristina'],\n",
    "        'VaccinationType': ['EFG', 'XYZ', 'ABC', 'XYZ', 'ABC', 'ABC', 'LMN', 'XYZ', 'ABC'],\n",
    "        'VaccinationDate': ['2022-06-15', '2022-10-05', '2021-12-28', '2022-01-01', '2022-03-05', '2022-02-20', '2022-05-11', '2022-04-11', '2022-03-12'],\n",
    "        'Country': ['USA', 'USA', 'USA', 'IND', 'IND', 'IND', 'AUS', 'AUS', 'AUS']}\n",
    "    df = pd.DataFrame(data)\n",
    "    \n",
    "    pop_len = pd.Series([5,10,4])\n",
    "    pop_len.index = ['USA','IND','AUS'] \n",
    "    \n",
    "    vacc_len =  df.groupby([\"Country\"]).size()\n",
    "    \n",
    "    res_percentage = pd.Series([])\n",
    "\n",
    "    for items in vacc_len.iteritems():\n",
    "        res_percentage[items[0]] = (items[1] / pop_len[items[0]] * 100)\n",
    "    \n",
    "    \n",
    "   \n",
    "    # get the expected output\n",
    "    data = {'AUS': 75.0, 'IND': 30.0, 'USA': 60.0}\n",
    "    s = pd.Series(data)\n",
    "    \n",
    "    \n",
    "    # compare the expected output to the actual output\n",
    "    assert_series_equal(res_percentage, s)\n",
    "    return(\"Valid result data for : percentage of vaccination coverage in each country \")"
   ]
  },
  {
   "cell_type": "code",
   "execution_count": 715,
   "id": "884a8d98",
   "metadata": {},
   "outputs": [
    {
     "name": "stdout",
     "output_type": "stream",
     "text": [
      "Valid result data for : percentage of vaccination coverage in each country \n"
     ]
    }
   ],
   "source": [
    "print(test_vaccination_percentage())"
   ]
  },
  {
   "cell_type": "code",
   "execution_count": null,
   "id": "d9c3070d",
   "metadata": {},
   "outputs": [],
   "source": []
  },
  {
   "cell_type": "code",
   "execution_count": 716,
   "id": "32fa09a7",
   "metadata": {},
   "outputs": [],
   "source": [
    "# % vaccination contribution by country (Sum of percentages add up to 100)\n",
    "#What I understood by this is is that for each country we need to find which type of vaccination contributed how much\n",
    "\n",
    "vacc_per_type = dt_res.groupby([\"Country\",\"VaccinationType\"]).size()"
   ]
  },
  {
   "cell_type": "code",
   "execution_count": 717,
   "id": "f2ef0040",
   "metadata": {},
   "outputs": [
    {
     "data": {
      "text/plain": [
       "MultiIndex([('AUS', 'ABC'),\n",
       "            ('AUS', 'LMN'),\n",
       "            ('AUS', 'XYZ'),\n",
       "            ('IND', 'ABC'),\n",
       "            ('IND', 'XYZ'),\n",
       "            ('USA', 'ABC'),\n",
       "            ('USA', 'EFG'),\n",
       "            ('USA', 'XYZ')],\n",
       "           names=['Country', 'VaccinationType'])"
      ]
     },
     "execution_count": 717,
     "metadata": {},
     "output_type": "execute_result"
    }
   ],
   "source": [
    "vacc_per_type.index"
   ]
  },
  {
   "cell_type": "code",
   "execution_count": 718,
   "id": "c3602821",
   "metadata": {},
   "outputs": [
    {
     "data": {
      "text/plain": [
       "Country  VaccinationType\n",
       "AUS      ABC                1\n",
       "         LMN                1\n",
       "         XYZ                1\n",
       "IND      ABC                2\n",
       "         XYZ                1\n",
       "USA      ABC                1\n",
       "         EFG                1\n",
       "         XYZ                1\n",
       "dtype: int64"
      ]
     },
     "execution_count": 718,
     "metadata": {},
     "output_type": "execute_result"
    }
   ],
   "source": [
    "vacc_per_type"
   ]
  },
  {
   "cell_type": "code",
   "execution_count": null,
   "id": "bb4bf8e6",
   "metadata": {},
   "outputs": [],
   "source": []
  },
  {
   "cell_type": "code",
   "execution_count": 719,
   "id": "a4fa429f",
   "metadata": {},
   "outputs": [
    {
     "name": "stdout",
     "output_type": "stream",
     "text": [
      "('AUS', 'ABC') AUS ABC 1\n",
      "0.3333333333333333\n",
      "('AUS', 'LMN') AUS LMN 1\n",
      "0.3333333333333333\n",
      "('AUS', 'XYZ') AUS XYZ 1\n",
      "0.3333333333333333\n",
      "('IND', 'ABC') IND ABC 2\n",
      "0.6666666666666666\n",
      "('IND', 'XYZ') IND XYZ 1\n",
      "0.3333333333333333\n",
      "('USA', 'ABC') USA ABC 1\n",
      "0.3333333333333333\n",
      "('USA', 'EFG') USA EFG 1\n",
      "0.3333333333333333\n",
      "('USA', 'XYZ') USA XYZ 1\n",
      "0.3333333333333333\n"
     ]
    }
   ],
   "source": [
    "res_type_percentage = pd.Series([])\n",
    "#idx = pd.MultiIndex.from_arrays([[],[]])\n",
    "#res_type_percentage = pd.DataFrame(index=idx)\n",
    "\n",
    "for items in vacc_per_type.iteritems():\n",
    "    print(items[0],  items[0][0], items[0][1],items[1])\n",
    "    # Per Country per type vaccine count\n",
    "    # (vacc_per_type[items[0]])\n",
    "    # per country total vaccine count\n",
    "    # ( vacc_len[items[0][0]] )\n",
    "    res_type_percentage = res_type_percentage.append(pd.Series(vacc_per_type[items[0]] / vacc_len[items[0][0]]))\n",
    "    print(vacc_per_type[items[0]] / vacc_len[items[0][0]])"
   ]
  },
  {
   "cell_type": "code",
   "execution_count": 720,
   "id": "3958fe9b",
   "metadata": {},
   "outputs": [
    {
     "name": "stdout",
     "output_type": "stream",
     "text": [
      "0    0.333333\n",
      "0    0.333333\n",
      "0    0.333333\n",
      "0    0.666667\n",
      "0    0.333333\n",
      "0    0.333333\n",
      "0    0.333333\n",
      "0    0.333333\n",
      "dtype: float64\n"
     ]
    }
   ],
   "source": [
    "print(res_type_percentage)"
   ]
  },
  {
   "cell_type": "code",
   "execution_count": 721,
   "id": "691c824a",
   "metadata": {},
   "outputs": [],
   "source": [
    " res_type_percentage.index =  vacc_per_type.index"
   ]
  },
  {
   "cell_type": "code",
   "execution_count": 722,
   "id": "1fdad068",
   "metadata": {},
   "outputs": [
    {
     "name": "stdout",
     "output_type": "stream",
     "text": [
      "Country  VaccinationType\n",
      "AUS      ABC                0.333333\n",
      "         LMN                0.333333\n",
      "         XYZ                0.333333\n",
      "IND      ABC                0.666667\n",
      "         XYZ                0.333333\n",
      "USA      ABC                0.333333\n",
      "         EFG                0.333333\n",
      "         XYZ                0.333333\n",
      "dtype: float64\n"
     ]
    }
   ],
   "source": [
    "print(res_type_percentage)"
   ]
  },
  {
   "cell_type": "code",
   "execution_count": 723,
   "id": "7d22d112",
   "metadata": {},
   "outputs": [
    {
     "data": {
      "text/plain": [
       "0.3333333333333333"
      ]
     },
     "execution_count": 723,
     "metadata": {},
     "output_type": "execute_result"
    }
   ],
   "source": [
    "#In Australia what percentage of users were vaccianted by ABC vaccine ?\n",
    "res_type_percentage[('AUS','ABC')]"
   ]
  },
  {
   "cell_type": "code",
   "execution_count": 724,
   "id": "06b34cbc",
   "metadata": {},
   "outputs": [
    {
     "data": {
      "text/plain": [
       "Country  VaccinationType\n",
       "AUS      ABC                0.333333\n",
       "         LMN                0.333333\n",
       "         XYZ                0.333333\n",
       "IND      ABC                0.666667\n",
       "         XYZ                0.333333\n",
       "USA      ABC                0.333333\n",
       "         EFG                0.333333\n",
       "         XYZ                0.333333\n",
       "dtype: float64"
      ]
     },
     "execution_count": 724,
     "metadata": {},
     "output_type": "execute_result"
    }
   ],
   "source": [
    "#For each country the various percentages add upto 100\n",
    "res_type_percentage"
   ]
  },
  {
   "cell_type": "code",
   "execution_count": 725,
   "id": "0c3cff98",
   "metadata": {},
   "outputs": [],
   "source": [
    "#Unit test for % vaccination contribution by each type per country. Verification is done to ensure that for each country\n",
    "# sum of percentages add up to 100\n",
    "\n",
    "\n",
    "def test_vaccination_percentage_contribution():\n",
    "    # create a sample DataFrame\n",
    "    data = {'Name': ['Sam', 'John', 'Mike', 'Vikas', 'Rahul', 'Sameer', 'Mike', 'Jonnathan', 'Cristina'],\n",
    "        'VaccinationType': ['EFG', 'XYZ', 'ABC', 'XYZ', 'ABC', 'ABC', 'LMN', 'XYZ', 'ABC'],\n",
    "        'VaccinationDate': ['2022-06-15', '2022-10-05', '2021-12-28', '2022-01-01', '2022-03-05', '2022-02-20', '2022-05-11', '2022-04-11', '2022-03-12'],\n",
    "        'Country': ['USA', 'USA', 'USA', 'IND', 'IND', 'IND', 'AUS', 'AUS', 'AUS']}\n",
    "    df = pd.DataFrame(data)\n",
    "    \n",
    "    vacc_per_type = dt_res.groupby([\"Country\",\"VaccinationType\"]).size()\n",
    "   \n",
    "    res_type_percentage = pd.Series([])\n",
    "   \n",
    "\n",
    "    for items in vacc_per_type.iteritems():\n",
    "        res_type_percentage = res_type_percentage.append(pd.Series(vacc_per_type[items[0]] / vacc_len[items[0][0]]))\n",
    "        \n",
    "       \n",
    "    res_type_percentage.index =  vacc_per_type.index\n",
    "    \n",
    "    #convert multi index series to dataframe\n",
    "    df1 = res_type_percentage.reset_index(name='Percentage')\n",
    "    \n",
    "    #Check if for every country the sum of all percentage of vaccination by types adds to 100\n",
    "    \n",
    "    \n",
    "    # group the dataframe by 'Country'\n",
    "    grouped = df1.groupby('Country')['Percentage'].sum()\n",
    "    is_equal_to_100 = (grouped == 1).all()\n",
    "\n",
    "    if is_equal_to_100 == True:\n",
    "        return \"The sum of percentages does not add upto 100 for all countries\"\n",
    "    else:\n",
    "        return \"The sum of percentages does not add upto 100 ERROR \""
   ]
  },
  {
   "cell_type": "code",
   "execution_count": 726,
   "id": "45600b3f",
   "metadata": {},
   "outputs": [
    {
     "name": "stdout",
     "output_type": "stream",
     "text": [
      "The sum of percentages does not add upto 100 for all countries\n"
     ]
    }
   ],
   "source": [
    "print(test_vaccination_percentage_contribution())"
   ]
  },
  {
   "cell_type": "code",
   "execution_count": 727,
   "id": "02aa10df",
   "metadata": {},
   "outputs": [
    {
     "data": {
      "text/plain": [
       "pandas.core.series.Series"
      ]
     },
     "execution_count": 727,
     "metadata": {},
     "output_type": "execute_result"
    }
   ],
   "source": [
    "type(df_res1)"
   ]
  },
  {
   "cell_type": "code",
   "execution_count": 728,
   "id": "81be314f",
   "metadata": {},
   "outputs": [],
   "source": [
    "#Since POWERBI consumes dataframes lets convert the resultant series into dataframes. These datafarames can also be \n",
    "# converted to excel which can be consumed by PowerBI"
   ]
  },
  {
   "cell_type": "code",
   "execution_count": 729,
   "id": "c9e77c0c",
   "metadata": {},
   "outputs": [],
   "source": [
    "# Metric 1: CountryName, VaccinationType, No. of vaccinations\n",
    "\n",
    "df_res1 = df_res1.reset_index()"
   ]
  },
  {
   "cell_type": "code",
   "execution_count": 730,
   "id": "e9d616b3",
   "metadata": {},
   "outputs": [],
   "source": [
    "df_res1 = df_res1.rename(columns={0: 'No of vaccinations'})"
   ]
  },
  {
   "cell_type": "code",
   "execution_count": 731,
   "id": "f8be08ee",
   "metadata": {},
   "outputs": [
    {
     "name": "stdout",
     "output_type": "stream",
     "text": [
      "  Country VaccinationType  No of vaccinations\n",
      "0     AUS             ABC                   1\n",
      "1     AUS             LMN                   1\n",
      "2     AUS             XYZ                   1\n",
      "3     IND             ABC                   2\n",
      "4     IND             XYZ                   1\n",
      "5     USA             ABC                   1\n",
      "6     USA             EFG                   1\n",
      "7     USA             XYZ                   1\n"
     ]
    }
   ],
   "source": [
    "print(df_res1)"
   ]
  },
  {
   "cell_type": "code",
   "execution_count": 732,
   "id": "b3e8b567",
   "metadata": {},
   "outputs": [],
   "source": [
    "# Metric 2: CountryName, % Vaccinated\n",
    "\n",
    "df_res2 = res_percentage.reset_index()"
   ]
  },
  {
   "cell_type": "code",
   "execution_count": 733,
   "id": "3e226908",
   "metadata": {},
   "outputs": [],
   "source": [
    "df_res2 = df_res2.rename(columns={'index': 'Country', 0: '% vaccination'})"
   ]
  },
  {
   "cell_type": "code",
   "execution_count": 734,
   "id": "1fa53bb2",
   "metadata": {},
   "outputs": [
    {
     "name": "stdout",
     "output_type": "stream",
     "text": [
      "  Country  % vaccination\n",
      "0     AUS           75.0\n",
      "1     IND           30.0\n",
      "2     USA           60.0\n"
     ]
    }
   ],
   "source": [
    "print(df_res2)"
   ]
  },
  {
   "cell_type": "code",
   "execution_count": 735,
   "id": "cecc7eca",
   "metadata": {},
   "outputs": [],
   "source": [
    "# Metric 3: CountryName, % Vaccinated\n",
    "df_res3 = res_type_percentage.reset_index()"
   ]
  },
  {
   "cell_type": "code",
   "execution_count": 736,
   "id": "eb81eec3",
   "metadata": {},
   "outputs": [],
   "source": [
    "df_res3 = df_res3.rename(columns={ 0: '% vaccination type/country'})"
   ]
  },
  {
   "cell_type": "code",
   "execution_count": 737,
   "id": "9a398879",
   "metadata": {},
   "outputs": [
    {
     "name": "stdout",
     "output_type": "stream",
     "text": [
      "  Country VaccinationType  % vaccination type/country\n",
      "0     AUS             ABC                    0.333333\n",
      "1     AUS             LMN                    0.333333\n",
      "2     AUS             XYZ                    0.333333\n",
      "3     IND             ABC                    0.666667\n",
      "4     IND             XYZ                    0.333333\n",
      "5     USA             ABC                    0.333333\n",
      "6     USA             EFG                    0.333333\n",
      "7     USA             XYZ                    0.333333\n"
     ]
    }
   ],
   "source": [
    "print(df_res3)"
   ]
  },
  {
   "cell_type": "code",
   "execution_count": null,
   "id": "32717170",
   "metadata": {},
   "outputs": [],
   "source": []
  },
  {
   "cell_type": "code",
   "execution_count": null,
   "id": "e7f53b48",
   "metadata": {},
   "outputs": [],
   "source": []
  },
  {
   "cell_type": "code",
   "execution_count": null,
   "id": "b70f4378",
   "metadata": {},
   "outputs": [],
   "source": []
  },
  {
   "cell_type": "code",
   "execution_count": null,
   "id": "0c2e4c08",
   "metadata": {},
   "outputs": [],
   "source": []
  },
  {
   "cell_type": "code",
   "execution_count": null,
   "id": "12941f20",
   "metadata": {},
   "outputs": [],
   "source": []
  }
 ],
 "metadata": {
  "kernelspec": {
   "display_name": "Python 3 (ipykernel)",
   "language": "python",
   "name": "python3"
  },
  "language_info": {
   "codemirror_mode": {
    "name": "ipython",
    "version": 3
   },
   "file_extension": ".py",
   "mimetype": "text/x-python",
   "name": "python",
   "nbconvert_exporter": "python",
   "pygments_lexer": "ipython3",
   "version": "3.9.12"
  }
 },
 "nbformat": 4,
 "nbformat_minor": 5
}
